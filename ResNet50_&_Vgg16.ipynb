{
  "nbformat": 4,
  "nbformat_minor": 0,
  "metadata": {
    "colab": {
      "name": "ResNet50 & Vgg16.ipynb",
      "provenance": []
    },
    "kernelspec": {
      "name": "python3",
      "display_name": "Python 3"
    },
    "language_info": {
      "name": "python"
    },
    "accelerator": "GPU"
  },
  "cells": [
    {
      "cell_type": "code",
      "metadata": {
        "id": "8WVZijS7H1XL"
      },
      "source": [
        ""
      ],
      "execution_count": null,
      "outputs": []
    },
    {
      "cell_type": "code",
      "metadata": {
        "id": "AXoAYrKrgXnj"
      },
      "source": [
        "!mkdir -p /kaggle/input/plant-seedlings-classification/\n"
      ],
      "execution_count": 1,
      "outputs": []
    },
    {
      "cell_type": "markdown",
      "metadata": {
        "id": "Mvf2uGvN1N0_"
      },
      "source": [
        "# Imports"
      ]
    },
    {
      "cell_type": "code",
      "metadata": {
        "id": "S-1UMNLlgz4S"
      },
      "source": [
        "import datetime as dt\n",
        "import matplotlib.pyplot as plt\n",
        "import matplotlib.image as img\n",
        "import numpy as np\n",
        "import os\n",
        "import pandas as pd\n",
        "import seaborn as sns\n",
        "from tensorflow.keras.applications import InceptionV3\n",
        "from tensorflow.keras.applications import VGG16\n",
        "from tensorflow.keras.applications import ResNet50\n",
        "from tensorflow.keras.applications import resnet50\n",
        "from tensorflow.keras.applications import vgg16\n",
        "from tensorflow.keras.applications import inception_v3\n",
        "from keras.preprocessing import image\n",
        "from tensorflow.keras.preprocessing.image import ImageDataGenerator\n",
        "from tensorflow.keras.layers import Dense, Dropout, BatchNormalization, ReLU,Activation\n",
        "from tensorflow.keras.activations import swish\n",
        "from tensorflow.keras.models import Model\n",
        "from tensorflow.keras.optimizers import Adam\n",
        "from tensorflow.keras.callbacks import ModelCheckpoint, ReduceLROnPlateau, EarlyStopping\n",
        "from mpl_toolkits.axes_grid1 import ImageGrid\n",
        "from sklearn.metrics import accuracy_score, confusion_matrix\n",
        "from tqdm import tqdm\n",
        "from sklearn.model_selection import train_test_split\n",
        "import random\n",
        "import imgaug as ia\n",
        "import imgaug.augmenters as iaa\n",
        "from keras.utils import layer_utils\n",
        "from tensorflow.keras.utils import to_categorical\n",
        "from statistics import mean\n",
        "import math\n",
        "import cv2\n",
        "from tensorflow import keras\n",
        "from sklearn.metrics import accuracy_score\n",
        "from sklearn.metrics import classification_report"
      ],
      "execution_count": 2,
      "outputs": []
    },
    {
      "cell_type": "markdown",
      "metadata": {
        "id": "MFdTuWPfUmqj"
      },
      "source": [
        "# Classes"
      ]
    },
    {
      "cell_type": "code",
      "metadata": {
        "colab": {
          "base_uri": "https://localhost:8080/"
        },
        "id": "RLRunbCQg4IZ",
        "outputId": "1482c4a3-916a-4afe-d338-894e3a357b6d"
      },
      "source": [
        "Classes = ['Black-grass', 'Charlock', 'Cleavers', 'Common Chickweed', 'Common wheat', 'Fat Hen', 'Loose Silky-bent',\n",
        "              'Maize', 'Scentless Mayweed', 'Shepherds Purse', 'Small-flowered Cranesbill', 'Sugar beet']\n",
        "\n",
        "Classes"
      ],
      "execution_count": 3,
      "outputs": [
        {
          "output_type": "execute_result",
          "data": {
            "text/plain": [
              "['Black-grass',\n",
              " 'Charlock',\n",
              " 'Cleavers',\n",
              " 'Common Chickweed',\n",
              " 'Common wheat',\n",
              " 'Fat Hen',\n",
              " 'Loose Silky-bent',\n",
              " 'Maize',\n",
              " 'Scentless Mayweed',\n",
              " 'Shepherds Purse',\n",
              " 'Small-flowered Cranesbill',\n",
              " 'Sugar beet']"
            ]
          },
          "metadata": {},
          "execution_count": 3
        }
      ]
    },
    {
      "cell_type": "markdown",
      "metadata": {
        "id": "QU0ayy9dU5C8"
      },
      "source": [
        "#Kaggle Import Dataset"
      ]
    },
    {
      "cell_type": "code",
      "metadata": {
        "id": "uTeFQxO2i9yf",
        "colab": {
          "resources": {
            "http://localhost:8080/nbextensions/google.colab/files.js": {
              "data": "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",
              "ok": true,
              "headers": [
                [
                  "content-type",
                  "application/javascript"
                ]
              ],
              "status": 200,
              "status_text": ""
            }
          },
          "base_uri": "https://localhost:8080/",
          "height": 73
        },
        "outputId": "2f8a821d-9201-4ae8-85ea-6966376bb9f6"
      },
      "source": [
        "import os\n",
        "import glob\n",
        "import zipfile\n",
        "import functools\n",
        "\n",
        "def get_kaggle_credentials():\n",
        "    token_dir = os.path.join(os.path.expanduser(\"~\"),\".kaggle\")\n",
        "    token_file = os.path.join(token_dir, \"kaggle.json\")\n",
        "    if not os.path.isdir(token_dir):\n",
        "        os.mkdir(token_dir)\n",
        "    try:\n",
        "        with open(token_file,'r') as f:\n",
        "            pass\n",
        "    except IOError as no_file:\n",
        "        try:\n",
        "            from google.colab import files\n",
        "        except ImportError:\n",
        "            raise no_file\n",
        "        uploaded = files.upload()\n",
        "\n",
        "        if \"kaggle.json\" not in uploaded:\n",
        "            raise ValueError(\"You need an API key! see: \"\n",
        "                           \"https://github.com/Kaggle/kaggle-api#api-credentials\")\n",
        "        with open(token_file, \"wb\") as f:\n",
        "            f.write(uploaded[\"kaggle.json\"])\n",
        "        os.chmod(token_file, 600)\n",
        "\n",
        "get_kaggle_credentials()\n",
        "\n",
        "import kaggle\n",
        "def get_data(competition):\n",
        "    kaggle.api.competition_download_files(competition)\n",
        "   "
      ],
      "execution_count": 4,
      "outputs": [
        {
          "output_type": "display_data",
          "data": {
            "text/html": [
              "\n",
              "     <input type=\"file\" id=\"files-9ad22164-be07-4301-9649-6137f40645b9\" name=\"files[]\" multiple disabled\n",
              "        style=\"border:none\" />\n",
              "     <output id=\"result-9ad22164-be07-4301-9649-6137f40645b9\">\n",
              "      Upload widget is only available when the cell has been executed in the\n",
              "      current browser session. Please rerun this cell to enable.\n",
              "      </output>\n",
              "      <script src=\"/nbextensions/google.colab/files.js\"></script> "
            ],
            "text/plain": [
              "<IPython.core.display.HTML object>"
            ]
          },
          "metadata": {}
        },
        {
          "output_type": "stream",
          "text": [
            "Saving kaggle.json to kaggle.json\n"
          ],
          "name": "stdout"
        }
      ]
    },
    {
      "cell_type": "code",
      "metadata": {
        "id": "_lbJZ6xSjCVF"
      },
      "source": [
        "competition = 'plant-seedlings-classification'\n",
        "get_data(competition)"
      ],
      "execution_count": 5,
      "outputs": []
    },
    {
      "cell_type": "code",
      "metadata": {
        "id": "cenua-akjNU-"
      },
      "source": [
        "train_path='/content/plant-seedlings-classification.zip'"
      ],
      "execution_count": 6,
      "outputs": []
    },
    {
      "cell_type": "code",
      "metadata": {
        "id": "A-q7HXv4hSXt"
      },
      "source": [
        "from zipfile import ZipFile\n",
        "with ZipFile(train_path, 'r') as zip:\n",
        "  zip.extractall('/kaggle/input/plant-seedlings-classification/')"
      ],
      "execution_count": 7,
      "outputs": []
    },
    {
      "cell_type": "code",
      "metadata": {
        "id": "_Xqgi4kmvtHh"
      },
      "source": [
        "train_dir='/kaggle/input/plant-seedlings-classification/train/'"
      ],
      "execution_count": 8,
      "outputs": []
    },
    {
      "cell_type": "code",
      "metadata": {
        "id": "pkIoHayRveR3",
        "colab": {
          "base_uri": "https://localhost:8080/"
        },
        "outputId": "28fb5799-e49d-4ccf-b842-a36eac5224ad"
      },
      "source": [
        "import glob\n",
        "\n",
        "file_ = []\n",
        "for i in range(12) :\n",
        "    file = glob.glob(train_dir+Classes[i]+'/*.png')\n",
        "    file_ += [len(file)]\n",
        "\n",
        "(file_)"
      ],
      "execution_count": 9,
      "outputs": [
        {
          "output_type": "execute_result",
          "data": {
            "text/plain": [
              "[263, 390, 287, 611, 221, 475, 654, 221, 516, 231, 496, 385]"
            ]
          },
          "metadata": {},
          "execution_count": 9
        }
      ]
    },
    {
      "cell_type": "code",
      "metadata": {
        "colab": {
          "base_uri": "https://localhost:8080/",
          "height": 468
        },
        "id": "4TPy1GC_hLxZ",
        "outputId": "536060ee-adcd-4f56-fac1-3822380e0700"
      },
      "source": [
        "import matplotlib.pyplot as plt\n",
        "fig = plt.figure(figsize = (9,6))\n",
        "ax = fig.add_subplot()\n",
        "ax.bar(Classes,file_)\n",
        "plt.xticks(rotation = 50)\n",
        "plt.show()"
      ],
      "execution_count": 10,
      "outputs": [
        {
          "output_type": "display_data",
          "data": {
            "image/png": "[encoded data removed]",
            "text/plain": [
              "<Figure size 648x432 with 1 Axes>"
            ]
          },
          "metadata": {
            "needs_background": "light"
          }
        }
      ]
    },
    {
      "cell_type": "markdown",
      "metadata": {
        "id": "HZQI5QuCXY8t"
      },
      "source": [
        "#Getting data train and val"
      ]
    },
    {
      "cell_type": "code",
      "metadata": {
        "id": "ThjOpKg4aRNQ"
      },
      "source": [
        "import tensorflow as tf\n",
        "save_dir_new='/kaggle/input/plant-seedlings-classification/train'"
      ],
      "execution_count": 11,
      "outputs": []
    },
    {
      "cell_type": "code",
      "metadata": {
        "id": "nDrnmfammLOg"
      },
      "source": [
        "def get_training_data( model):\n",
        "    datagen = ImageDataGenerator(preprocessing_function =  vgg16.preprocess_input, validation_split=0.1)\n",
        "    \n",
        "    train_data_den = datagen.flow_from_directory(\n",
        "            directory= os.path.join(save_dir_new),\n",
        "            class_mode = \"categorical\",\n",
        "            batch_size=32,\n",
        "            shuffle=True,\n",
        "            subset='training'\n",
        "        )\n",
        "        \n",
        "    val_data_gen = datagen.flow_from_directory(\n",
        "            directory= os.path.join(save_dir_new),\n",
        "            class_mode = 'categorical',\n",
        "            batch_size=32,\n",
        "            shuffle=False,\n",
        "            subset='validation'\n",
        "        )\n",
        "\n",
        "    return train_data_den, val_data_gen"
      ],
      "execution_count": 12,
      "outputs": []
    },
    {
      "cell_type": "markdown",
      "metadata": {
        "id": "rOCNJmYwtWCC"
      },
      "source": [
        "# Confusion Matrix"
      ]
    },
    {
      "cell_type": "code",
      "metadata": {
        "id": "IGbpwjuptZIa"
      },
      "source": [
        "def plot_confusion_matrix(cm, classes, normalize=False,title='Confusion matrix',cmap=plt.cm.Greens):\n",
        "    \n",
        "    fig = plt.figure(figsize=(10,10))\n",
        "    plt.imshow(cm, interpolation='nearest', cmap=cmap)\n",
        "    plt.title(title)\n",
        "    tick_marks = np.arange(len(classes))\n",
        "    plt.xticks(tick_marks, classes, rotation=90)\n",
        "    plt.yticks(tick_marks, classes)\n",
        "\n",
        "    if normalize:\n",
        "        cm = cm.astype('float') / cm.sum(axis=1)[:, np.newaxis]\n",
        "\n",
        "    thresh = cm.max() / 2.\n",
        "    for i, j in itertools.product(range(cm.shape[0]), range(cm.shape[1])):\n",
        "        plt.text(j, i, cm[i, j],\n",
        "                 horizontalalignment=\"center\",\n",
        "                 color=\"white\" if cm[i, j] > thresh else \"black\")\n",
        "\n",
        "    plt.tight_layout()\n",
        "    plt.ylabel('Actual label')\n",
        "    plt.xlabel('Predicted label')"
      ],
      "execution_count": 13,
      "outputs": []
    },
    {
      "cell_type": "markdown",
      "metadata": {
        "id": "2DDa6Tmw5Lf-"
      },
      "source": [
        "# Class Weights"
      ]
    },
    {
      "cell_type": "code",
      "metadata": {
        "colab": {
          "base_uri": "https://localhost:8080/"
        },
        "id": "r0AjryRcNmhF",
        "outputId": "65c836ee-a4b6-4853-8c0c-6f82aac6409e"
      },
      "source": [
        "import glob\n",
        "\n",
        "file_num = []\n",
        "for i in range(12) :\n",
        "    imfile = glob.glob('/kaggle/input/plant-seedlings-classification/train/'+Classes[i]+'/*.png')\n",
        "    file_num += [len(imfile)]\n",
        "\n",
        "(file_num)"
      ],
      "execution_count": 14,
      "outputs": [
        {
          "output_type": "execute_result",
          "data": {
            "text/plain": [
              "[263, 390, 287, 611, 221, 475, 654, 221, 516, 231, 496, 385]"
            ]
          },
          "metadata": {},
          "execution_count": 14
        }
      ]
    },
    {
      "cell_type": "code",
      "metadata": {
        "colab": {
          "base_uri": "https://localhost:8080/"
        },
        "id": "ZM7PQMebNSg1",
        "outputId": "0ee0eb3b-c63a-484e-8434-0bce627e6166"
      },
      "source": [
        "import numpy as np\n",
        "import math\n",
        "\n",
        "def create_class_weight(labels_dict,mu=0.15):\n",
        "    total = np.sum(list(labels_dict.values()))\n",
        "    keys = labels_dict.keys()\n",
        "    class_weight = dict()\n",
        "    \n",
        "    for key in keys:\n",
        "        score = math.log(mu*total/float(labels_dict[key]))\n",
        "        class_weight[key] = score if score > 1.0 else 1.0\n",
        "    \n",
        "    return class_weight\n",
        "\n",
        "labels_dict = {0:263, 1:390, 2:287, 3:611, 4:221, 5:475, 6:654, 7:221, 8:516,9: 231, 10:496, 11:385}\n",
        "\n",
        "create_class_weight(labels_dict)"
      ],
      "execution_count": 15,
      "outputs": [
        {
          "output_type": "execute_result",
          "data": {
            "text/plain": [
              "{0: 1.0,\n",
              " 1: 1.0,\n",
              " 2: 1.0,\n",
              " 3: 1.0,\n",
              " 4: 1.1706172106250528,\n",
              " 5: 1.0,\n",
              " 6: 1.0,\n",
              " 7: 1.1706172106250528,\n",
              " 8: 1.0,\n",
              " 9: 1.126362201621012,\n",
              " 10: 1.0,\n",
              " 11: 1.0}"
            ]
          },
          "metadata": {},
          "execution_count": 15
        }
      ]
    },
    {
      "cell_type": "markdown",
      "metadata": {
        "id": "K2w1ylFevO7t"
      },
      "source": [
        "#Plot "
      ]
    },
    {
      "cell_type": "code",
      "metadata": {
        "id": "ShcKf3jZvOa1"
      },
      "source": [
        "def plots(model):\n",
        "    plt.plot(np.array(model.history['accuracy']) * 100)\n",
        "    plt.plot(np.array(model.history['val_accuracy']) * 100)\n",
        "    plt.ylabel('accuracy')\n",
        "    plt.xlabel('epochs')\n",
        "    plt.legend(['train', 'validation'])\n",
        "    plt.title('Accuracy vs epochs')\n",
        "    plt.show()"
      ],
      "execution_count": 16,
      "outputs": []
    },
    {
      "cell_type": "code",
      "metadata": {
        "id": "b8rLE3Rfpqur"
      },
      "source": [
        "#Final score and accuracy of the model train and test\n",
        "def Calculate(model_name):\n",
        "\n",
        "    score2, acc2 = model_name.history.evaluate(val_gen)\n",
        "    score1, acc1 = model_name.history.evaluate(train_gen)\n",
        "\n",
        "\n",
        "    print('Validation score:', score2,'   Validation accuracy:', acc2)\n",
        "    print('Train score:', score1,'   Train accuracy:',acc1)"
      ],
      "execution_count": 17,
      "outputs": []
    },
    {
      "cell_type": "markdown",
      "metadata": {
        "id": "6egG1pbq0Xai"
      },
      "source": [
        "#VGG callbacks\n"
      ]
    },
    {
      "cell_type": "code",
      "metadata": {
        "colab": {
          "base_uri": "https://localhost:8080/"
        },
        "id": "PZcI_Pr8vv3N",
        "outputId": "146213a9-bcdb-46e9-ddac-7ea440ab2bbc"
      },
      "source": [
        "checkpoint = ModelCheckpoint(filepath=os.path.join('/kaggle/input/','vgg16','.h5'), monitor='val_loss', mode='min', save_best_only=True)\n",
        "reduce_lr = ReduceLROnPlateau(monitor='val_loss', factor=0.2, patience=1, min_lr=0.00001)\n",
        "es = EarlyStopping(monitor='val_loss', min_delta=0, patience=3, verbose=1, mode='min', restore_best_weights=True)\n",
        "callbacksvgg=[checkpoint,reduce_lr,es]\n",
        "train_gen_vgg, val_gen_vgg = get_training_data(model = 'vgg16')\n"
      ],
      "execution_count": 18,
      "outputs": [
        {
          "output_type": "stream",
          "text": [
            "Found 4279 images belonging to 12 classes.\n",
            "Found 471 images belonging to 12 classes.\n"
          ],
          "name": "stdout"
        }
      ]
    },
    {
      "cell_type": "code",
      "metadata": {
        "id": "m8lyQ0_aUMVV",
        "colab": {
          "base_uri": "https://localhost:8080/"
        },
        "outputId": "9167cd16-b456-492f-e252-a1d318495bef"
      },
      "source": [
        "checkpoint1 = ModelCheckpoint(filepath=os.path.join('/kaggle/input/','vgg16','.h5'), monitor='val_loss', mode='min', save_best_only=True)\n",
        "reduce_lr1 = ReduceLROnPlateau(monitor='val_loss', factor=0.2, patience=1, min_lr=0.00001)\n",
        "early_stop1 = EarlyStopping(monitor='val_loss', min_delta=0, patience=3, verbose=1, mode='min', restore_best_weights=True)\n",
        "callbacksvgg1=[checkpoint1,reduce_lr1,early_stop1]\n",
        "train_gen_vgg1, val_gen_vgg1 = get_training_data(model = 'vgg16')\n"
      ],
      "execution_count": null,
      "outputs": [
        {
          "output_type": "stream",
          "text": [
            "Found 4279 images belonging to 12 classes.\n",
            "Found 471 images belonging to 12 classes.\n"
          ],
          "name": "stdout"
        }
      ]
    },
    {
      "cell_type": "code",
      "metadata": {
        "colab": {
          "base_uri": "https://localhost:8080/"
        },
        "id": "pK7v6swqJDj3",
        "outputId": "043499a1-2d76-4288-8a5b-10241b7e54a2"
      },
      "source": [
        "prior_vgg1 = VGG16(weights='imagenet', include_top=False, pooling='max', input_shape=(224, 224, 3))\n"
      ],
      "execution_count": null,
      "outputs": [
        {
          "output_type": "stream",
          "text": [
            "Downloading data from https://storage.googleapis.com/tensorflow/keras-applications/vgg16/vgg16_weights_tf_dim_ordering_tf_kernels_notop.h5\n",
            "58892288/58889256 [==============================] - 1s 0us/step\n",
            "58900480/58889256 [==============================] - 1s 0us/step\n"
          ],
          "name": "stdout"
        }
      ]
    },
    {
      "cell_type": "code",
      "metadata": {
        "colab": {
          "base_uri": "https://localhost:8080/"
        },
        "id": "5mq5WPFxJFGu",
        "outputId": "e0d817d1-ef58-4ceb-afdc-29dbd1b3d7ce"
      },
      "source": [
        "prior_vgg1.summary()"
      ],
      "execution_count": null,
      "outputs": [
        {
          "output_type": "stream",
          "text": [
            "Model: \"vgg16\"\n",
            "_________________________________________________________________\n",
            "Layer (type)                 Output Shape              Param #   \n",
            "=================================================================\n",
            "input_2 (InputLayer)         [(None, 224, 224, 3)]     0         \n",
            "_________________________________________________________________\n",
            "block1_conv1 (Conv2D)        (None, 224, 224, 64)      1792      \n",
            "_________________________________________________________________\n",
            "block1_conv2 (Conv2D)        (None, 224, 224, 64)      36928     \n",
            "_________________________________________________________________\n",
            "block1_pool (MaxPooling2D)   (None, 112, 112, 64)      0         \n",
            "_________________________________________________________________\n",
            "block2_conv1 (Conv2D)        (None, 112, 112, 128)     73856     \n",
            "_________________________________________________________________\n",
            "block2_conv2 (Conv2D)        (None, 112, 112, 128)     147584    \n",
            "_________________________________________________________________\n",
            "block2_pool (MaxPooling2D)   (None, 56, 56, 128)       0         \n",
            "_________________________________________________________________\n",
            "block3_conv1 (Conv2D)        (None, 56, 56, 256)       295168    \n",
            "_________________________________________________________________\n",
            "block3_conv2 (Conv2D)        (None, 56, 56, 256)       590080    \n",
            "_________________________________________________________________\n",
            "block3_conv3 (Conv2D)        (None, 56, 56, 256)       590080    \n",
            "_________________________________________________________________\n",
            "block3_pool (MaxPooling2D)   (None, 28, 28, 256)       0         \n",
            "_________________________________________________________________\n",
            "block4_conv1 (Conv2D)        (None, 28, 28, 512)       1180160   \n",
            "_________________________________________________________________\n",
            "block4_conv2 (Conv2D)        (None, 28, 28, 512)       2359808   \n",
            "_________________________________________________________________\n",
            "block4_conv3 (Conv2D)        (None, 28, 28, 512)       2359808   \n",
            "_________________________________________________________________\n",
            "block4_pool (MaxPooling2D)   (None, 14, 14, 512)       0         \n",
            "_________________________________________________________________\n",
            "block5_conv1 (Conv2D)        (None, 14, 14, 512)       2359808   \n",
            "_________________________________________________________________\n",
            "block5_conv2 (Conv2D)        (None, 14, 14, 512)       2359808   \n",
            "_________________________________________________________________\n",
            "block5_conv3 (Conv2D)        (None, 14, 14, 512)       2359808   \n",
            "_________________________________________________________________\n",
            "block5_pool (MaxPooling2D)   (None, 7, 7, 512)         0         \n",
            "_________________________________________________________________\n",
            "global_max_pooling2d_1 (Glob (None, 512)               0         \n",
            "=================================================================\n",
            "Total params: 14,714,688\n",
            "Trainable params: 2,359,808\n",
            "Non-trainable params: 12,354,880\n",
            "_________________________________________________________________\n"
          ],
          "name": "stdout"
        }
      ]
    },
    {
      "cell_type": "markdown",
      "metadata": {
        "id": "LSFQF1hbWyWE"
      },
      "source": [
        "# MODEL"
      ]
    },
    {
      "cell_type": "code",
      "metadata": {
        "id": "qgrZZI81ZvnU",
        "colab": {
          "base_uri": "https://localhost:8080/"
        },
        "outputId": "fa7b2771-6aca-4ba6-df2b-8197bec98113"
      },
      "source": [
        "prior_vgg = VGG16(weights='imagenet', include_top=False, pooling='max', input_shape=(224, 224, 3))\n",
        "xv = prior_vgg.output\n",
        "xv = Dropout(0.6)(xv)\n",
        "xv = Dense(512)(xv)\n",
        "xv = BatchNormalization()(xv)\n",
        "xv = swish(xv)\n",
        "xv = Dropout(0.5)(xv)\n",
        "out = Dense(12, activation='softmax')(xv)\n",
        "vggmodel = Model(inputs = prior_vgg.input, outputs = out)\n",
        "for layer in prior_vgg.layers[0:-4]:\n",
        "    layer.trainable = False\n",
        "    \n",
        "vggmodel.compile(Adam(lr=0.0001), loss='categorical_crossentropy', metrics=['accuracy'])\n"
      ],
      "execution_count": 22,
      "outputs": [
        {
          "output_type": "stream",
          "text": [
            "/usr/local/lib/python3.7/dist-packages/keras/optimizer_v2/optimizer_v2.py:356: UserWarning: The `lr` argument is deprecated, use `learning_rate` instead.\n",
            "  \"The `lr` argument is deprecated, use `learning_rate` instead.\")\n"
          ],
          "name": "stderr"
        }
      ]
    },
    {
      "cell_type": "code",
      "metadata": {
        "id": "D0YCbu3aZyVT",
        "colab": {
          "base_uri": "https://localhost:8080/"
        },
        "outputId": "2459b978-7c0b-417f-bf26-3a6d88e9a98a"
      },
      "source": [
        "VGG = vggmodel.fit_generator(train_gen_vgg,\n",
        "                      validation_data = val_gen_vgg,\n",
        "                      epochs = 50,\n",
        "                      verbose = 1,\n",
        "                      class_weight=create_class_weight(labels_dict),\n",
        "                      shuffle=True,\n",
        "                      callbacks = callbacksvgg)"
      ],
      "execution_count": 23,
      "outputs": [
        {
          "output_type": "stream",
          "text": [
            "/usr/local/lib/python3.7/dist-packages/keras/engine/training.py:1972: UserWarning: `Model.fit_generator` is deprecated and will be removed in a future version. Please use `Model.fit`, which supports generators.\n",
            "  warnings.warn('`Model.fit_generator` is deprecated and '\n"
          ],
          "name": "stderr"
        },
        {
          "output_type": "stream",
          "text": [
            "Epoch 1/50\n",
            "134/134 [==============================] - 124s 612ms/step - loss: 2.2362 - accuracy: 0.2940 - val_loss: 1.1447 - val_accuracy: 0.6582\n",
            "Epoch 2/50\n",
            "134/134 [==============================] - 71s 529ms/step - loss: 1.2263 - accuracy: 0.6107 - val_loss: 0.6966 - val_accuracy: 0.8110\n",
            "Epoch 3/50\n",
            "134/134 [==============================] - 71s 527ms/step - loss: 0.8148 - accuracy: 0.7558 - val_loss: 0.5481 - val_accuracy: 0.8556\n",
            "Epoch 4/50\n",
            "134/134 [==============================] - 72s 537ms/step - loss: 0.5970 - accuracy: 0.8179 - val_loss: 0.4038 - val_accuracy: 0.8896\n",
            "Epoch 5/50\n",
            "134/134 [==============================] - 71s 526ms/step - loss: 0.4564 - accuracy: 0.8652 - val_loss: 0.3600 - val_accuracy: 0.8960\n",
            "Epoch 6/50\n",
            "134/134 [==============================] - 72s 538ms/step - loss: 0.3706 - accuracy: 0.8927 - val_loss: 0.3194 - val_accuracy: 0.9002\n",
            "Epoch 7/50\n",
            "134/134 [==============================] - 72s 532ms/step - loss: 0.2939 - accuracy: 0.9180 - val_loss: 0.2955 - val_accuracy: 0.9130\n",
            "Epoch 8/50\n",
            "134/134 [==============================] - 72s 531ms/step - loss: 0.2504 - accuracy: 0.9294 - val_loss: 0.2840 - val_accuracy: 0.9172\n",
            "Epoch 9/50\n",
            "134/134 [==============================] - 73s 540ms/step - loss: 0.1958 - accuracy: 0.9472 - val_loss: 0.2772 - val_accuracy: 0.9023\n",
            "Epoch 10/50\n",
            "134/134 [==============================] - 72s 538ms/step - loss: 0.1741 - accuracy: 0.9542 - val_loss: 0.2496 - val_accuracy: 0.9193\n",
            "Epoch 11/50\n",
            "134/134 [==============================] - 72s 539ms/step - loss: 0.1353 - accuracy: 0.9647 - val_loss: 0.2500 - val_accuracy: 0.9172\n",
            "Epoch 12/50\n",
            "134/134 [==============================] - 73s 541ms/step - loss: 0.1103 - accuracy: 0.9710 - val_loss: 0.2526 - val_accuracy: 0.9214\n",
            "Epoch 13/50\n",
            "134/134 [==============================] - 73s 542ms/step - loss: 0.0926 - accuracy: 0.9801 - val_loss: 0.2404 - val_accuracy: 0.9278\n",
            "Epoch 14/50\n",
            "134/134 [==============================] - 73s 543ms/step - loss: 0.0918 - accuracy: 0.9783 - val_loss: 0.2421 - val_accuracy: 0.9236\n",
            "Epoch 15/50\n",
            "134/134 [==============================] - 73s 541ms/step - loss: 0.0850 - accuracy: 0.9829 - val_loss: 0.2403 - val_accuracy: 0.9299\n",
            "Epoch 16/50\n",
            "134/134 [==============================] - 73s 544ms/step - loss: 0.0765 - accuracy: 0.9846 - val_loss: 0.2414 - val_accuracy: 0.9278\n",
            "Epoch 17/50\n",
            "134/134 [==============================] - 72s 536ms/step - loss: 0.0714 - accuracy: 0.9871 - val_loss: 0.2394 - val_accuracy: 0.9278\n",
            "Epoch 18/50\n",
            "134/134 [==============================] - 72s 537ms/step - loss: 0.0712 - accuracy: 0.9888 - val_loss: 0.2353 - val_accuracy: 0.9278\n",
            "Epoch 19/50\n",
            "134/134 [==============================] - 73s 541ms/step - loss: 0.0701 - accuracy: 0.9890 - val_loss: 0.2355 - val_accuracy: 0.9257\n",
            "Epoch 20/50\n",
            "134/134 [==============================] - 73s 542ms/step - loss: 0.0665 - accuracy: 0.9892 - val_loss: 0.2338 - val_accuracy: 0.9257\n",
            "Epoch 21/50\n",
            "134/134 [==============================] - 73s 541ms/step - loss: 0.0659 - accuracy: 0.9876 - val_loss: 0.2317 - val_accuracy: 0.9321\n",
            "Epoch 22/50\n",
            "134/134 [==============================] - 73s 541ms/step - loss: 0.0664 - accuracy: 0.9881 - val_loss: 0.2334 - val_accuracy: 0.9299\n",
            "Epoch 23/50\n",
            "134/134 [==============================] - 73s 539ms/step - loss: 0.0614 - accuracy: 0.9885 - val_loss: 0.2343 - val_accuracy: 0.9278\n",
            "Epoch 24/50\n",
            "134/134 [==============================] - 73s 541ms/step - loss: 0.0582 - accuracy: 0.9909 - val_loss: 0.2345 - val_accuracy: 0.9321\n",
            "Restoring model weights from the end of the best epoch.\n",
            "Epoch 00024: early stopping\n"
          ],
          "name": "stdout"
        }
      ]
    },
    {
      "cell_type": "code",
      "metadata": {
        "id": "U1QoHr3CU9v1",
        "colab": {
          "base_uri": "https://localhost:8080/",
          "height": 295
        },
        "outputId": "2fd6e183-41f1-4ff2-a5ef-d3a346177e46"
      },
      "source": [
        "plots(VGG)"
      ],
      "execution_count": 25,
      "outputs": [
        {
          "output_type": "display_data",
          "data": {
            "image/png": "[encoded data removed]",
            "text/plain": [
              "<Figure size 432x288 with 1 Axes>"
            ]
          },
          "metadata": {
            "needs_background": "light"
          }
        }
      ]
    },
    {
      "cell_type": "code",
      "metadata": {
        "colab": {
          "base_uri": "https://localhost:8080/",
          "height": 1000
        },
        "id": "KULsWmSXAuri",
        "outputId": "eb37215d-6612-4b1b-be01-acd9b501a1a0"
      },
      "source": [
        "#val\n",
        "import itertools\n",
        "predictions = vggmodel.predict_generator(val_gen_vgg)\n",
        "y_predval_vgg = np.argmax(predictions, axis=1)\n",
        "cf_matrix = confusion_matrix(val_gen_vgg.classes, y_predval_vgg)\n",
        "print('Classification Report')\n",
        "print(classification_report(val_gen_vgg.classes, y_predval_vgg, target_names=Classes))\n",
        "#plt.figure(figsize=(20,20))\n",
        "confusionMTX = confusion_matrix(val_gen_vgg.classes, y_predval_vgg) \n",
        "# plot the confusion matrix\n",
        "plot_confusion_matrix(confusionMTX, classes = Classes) \n",
        "#sns.heatmap(cf_matrix, annot=True, xticklabels=Classes, yticklabels=Classes, cmap='Blues')"
      ],
      "execution_count": 26,
      "outputs": [
        {
          "output_type": "stream",
          "text": [
            "/usr/local/lib/python3.7/dist-packages/keras/engine/training.py:2035: UserWarning: `Model.predict_generator` is deprecated and will be removed in a future version. Please use `Model.predict`, which supports generators.\n",
            "  warnings.warn('`Model.predict_generator` is deprecated and '\n"
          ],
          "name": "stderr"
        },
        {
          "output_type": "stream",
          "text": [
            "Classification Report\n",
            "                           precision    recall  f1-score   support\n",
            "\n",
            "              Black-grass       0.76      0.50      0.60        26\n",
            "                 Charlock       1.00      1.00      1.00        39\n",
            "                 Cleavers       1.00      0.93      0.96        28\n",
            "         Common Chickweed       0.98      0.98      0.98        61\n",
            "             Common wheat       0.83      0.86      0.84        22\n",
            "                  Fat Hen       1.00      0.91      0.96        47\n",
            "         Loose Silky-bent       0.81      0.98      0.89        65\n",
            "                    Maize       1.00      0.95      0.98        22\n",
            "        Scentless Mayweed       0.93      1.00      0.96        51\n",
            "          Shepherds Purse       0.95      0.87      0.91        23\n",
            "Small-flowered Cranesbill       1.00      0.96      0.98        49\n",
            "               Sugar beet       0.92      0.95      0.94        38\n",
            "\n",
            "                 accuracy                           0.93       471\n",
            "                macro avg       0.93      0.91      0.92       471\n",
            "             weighted avg       0.93      0.93      0.93       471\n",
            "\n"
          ],
          "name": "stdout"
        },
        {
          "output_type": "display_data",
          "data": {
            "image/png": "[encoded data removed]",
            "text/plain": [
              "<Figure size 720x720 with 1 Axes>"
            ]
          },
          "metadata": {
            "needs_background": "light"
          }
        }
      ]
    },
    {
      "cell_type": "markdown",
      "metadata": {
        "id": "gYo0s0pA0TJE"
      },
      "source": [
        "#Predict"
      ]
    },
    {
      "cell_type": "code",
      "metadata": {
        "id": "uWc4XuRi0dRm"
      },
      "source": [
        "test_dir='/kaggle/input/plant-seedlings-classification/test'"
      ],
      "execution_count": null,
      "outputs": []
    },
    {
      "cell_type": "code",
      "metadata": {
        "colab": {
          "base_uri": "https://localhost:8080/"
        },
        "id": "yuvjPfHMwOIB",
        "outputId": "c6948620-ee4f-442d-f7c5-e34f11850a01"
      },
      "source": [
        "test_datagen = ImageDataGenerator(preprocessing_function =  vgg16.preprocess_input)\n",
        "    \n",
        "test_generator = test_datagen.flow_from_directory(\n",
        "    directory='/kaggle/input/plant-seedlings-classification/',\n",
        "    classes=['test'],\n",
        "    target_size=(224, 224),\n",
        "    batch_size=32,\n",
        "    shuffle=False,\n",
        "    class_mode='categorical',\n",
        "    seed=1\n",
        ")\n"
      ],
      "execution_count": null,
      "outputs": [
        {
          "output_type": "stream",
          "text": [
            "Found 794 images belonging to 1 classes.\n"
          ],
          "name": "stdout"
        }
      ]
    },
    {
      "cell_type": "code",
      "metadata": {
        "id": "jSFA6LJcwOIC"
      },
      "source": [
        "predictions = vggmodel.predict(test_generator)\n",
        "y_predval_vgg = np.argmax(predictions, axis=1)"
      ],
      "execution_count": null,
      "outputs": []
    },
    {
      "cell_type": "code",
      "metadata": {
        "id": "khIipU64wOID"
      },
      "source": [
        "preds = vggmodel.predict(test_generator)"
      ],
      "execution_count": null,
      "outputs": []
    },
    {
      "cell_type": "code",
      "metadata": {
        "id": "_6NkpkFkwOIE"
      },
      "source": [
        "y_predval=np.argmax(preds,axis=1)"
      ],
      "execution_count": null,
      "outputs": []
    },
    {
      "cell_type": "code",
      "metadata": {
        "id": "yWTmiEBlwOIF"
      },
      "source": [
        "class_list = []\n",
        "for i in range(preds.shape[0]):\n",
        "    y_class = preds[i,:].argmax(axis=-1)\n",
        "    class_list.append(Classes[y_class])\n",
        "    \n"
      ],
      "execution_count": null,
      "outputs": []
    },
    {
      "cell_type": "code",
      "metadata": {
        "colab": {
          "base_uri": "https://localhost:8080/"
        },
        "id": "RJaKE0ugwOIH",
        "outputId": "a2648144-d577-44f1-cbb2-a8a0cb024c0c"
      },
      "source": [
        "class_list"
      ],
      "execution_count": null,
      "outputs": [
        {
          "output_type": "execute_result",
          "data": {
            "text/plain": [
              "['Small-flowered Cranesbill',\n",
              " 'Fat Hen',\n",
              " 'Sugar beet',\n",
              " 'Common Chickweed',\n",
              " 'Sugar beet',\n",
              " 'Loose Silky-bent',\n",
              " 'Common Chickweed',\n",
              " 'Fat Hen',\n",
              " 'Loose Silky-bent',\n",
              " 'Loose Silky-bent',\n",
              " 'Fat Hen',\n",
              " 'Small-flowered Cranesbill',\n",
              " 'Sugar beet',\n",
              " 'Scentless Mayweed',\n",
              " 'Sugar beet',\n",
              " 'Fat Hen',\n",
              " 'Scentless Mayweed',\n",
              " 'Scentless Mayweed',\n",
              " 'Common Chickweed',\n",
              " 'Shepherds Purse',\n",
              " 'Common Chickweed',\n",
              " 'Small-flowered Cranesbill',\n",
              " 'Shepherds Purse',\n",
              " 'Sugar beet',\n",
              " 'Sugar beet',\n",
              " 'Maize',\n",
              " 'Scentless Mayweed',\n",
              " 'Scentless Mayweed',\n",
              " 'Common Chickweed',\n",
              " 'Sugar beet',\n",
              " 'Common Chickweed',\n",
              " 'Shepherds Purse',\n",
              " 'Loose Silky-bent',\n",
              " 'Sugar beet',\n",
              " 'Loose Silky-bent',\n",
              " 'Loose Silky-bent',\n",
              " 'Loose Silky-bent',\n",
              " 'Loose Silky-bent',\n",
              " 'Common Chickweed',\n",
              " 'Maize',\n",
              " 'Loose Silky-bent',\n",
              " 'Common wheat',\n",
              " 'Common Chickweed',\n",
              " 'Small-flowered Cranesbill',\n",
              " 'Black-grass',\n",
              " 'Sugar beet',\n",
              " 'Maize',\n",
              " 'Scentless Mayweed',\n",
              " 'Maize',\n",
              " 'Small-flowered Cranesbill',\n",
              " 'Loose Silky-bent',\n",
              " 'Sugar beet',\n",
              " 'Cleavers',\n",
              " 'Loose Silky-bent',\n",
              " 'Maize',\n",
              " 'Fat Hen',\n",
              " 'Charlock',\n",
              " 'Small-flowered Cranesbill',\n",
              " 'Cleavers',\n",
              " 'Loose Silky-bent',\n",
              " 'Sugar beet',\n",
              " 'Cleavers',\n",
              " 'Charlock',\n",
              " 'Common wheat',\n",
              " 'Maize',\n",
              " 'Fat Hen',\n",
              " 'Loose Silky-bent',\n",
              " 'Loose Silky-bent',\n",
              " 'Shepherds Purse',\n",
              " 'Scentless Mayweed',\n",
              " 'Small-flowered Cranesbill',\n",
              " 'Common Chickweed',\n",
              " 'Scentless Mayweed',\n",
              " 'Common Chickweed',\n",
              " 'Common Chickweed',\n",
              " 'Common wheat',\n",
              " 'Loose Silky-bent',\n",
              " 'Scentless Mayweed',\n",
              " 'Scentless Mayweed',\n",
              " 'Loose Silky-bent',\n",
              " 'Fat Hen',\n",
              " 'Common Chickweed',\n",
              " 'Common Chickweed',\n",
              " 'Common wheat',\n",
              " 'Shepherds Purse',\n",
              " 'Sugar beet',\n",
              " 'Cleavers',\n",
              " 'Scentless Mayweed',\n",
              " 'Fat Hen',\n",
              " 'Loose Silky-bent',\n",
              " 'Charlock',\n",
              " 'Loose Silky-bent',\n",
              " 'Fat Hen',\n",
              " 'Loose Silky-bent',\n",
              " 'Common Chickweed',\n",
              " 'Loose Silky-bent',\n",
              " 'Small-flowered Cranesbill',\n",
              " 'Scentless Mayweed',\n",
              " 'Maize',\n",
              " 'Small-flowered Cranesbill',\n",
              " 'Sugar beet',\n",
              " 'Fat Hen',\n",
              " 'Scentless Mayweed',\n",
              " 'Sugar beet',\n",
              " 'Fat Hen',\n",
              " 'Fat Hen',\n",
              " 'Common Chickweed',\n",
              " 'Scentless Mayweed',\n",
              " 'Cleavers',\n",
              " 'Cleavers',\n",
              " 'Loose Silky-bent',\n",
              " 'Charlock',\n",
              " 'Common Chickweed',\n",
              " 'Common Chickweed',\n",
              " 'Shepherds Purse',\n",
              " 'Sugar beet',\n",
              " 'Cleavers',\n",
              " 'Charlock',\n",
              " 'Sugar beet',\n",
              " 'Common Chickweed',\n",
              " 'Common Chickweed',\n",
              " 'Sugar beet',\n",
              " 'Cleavers',\n",
              " 'Black-grass',\n",
              " 'Maize',\n",
              " 'Common wheat',\n",
              " 'Charlock',\n",
              " 'Maize',\n",
              " 'Fat Hen',\n",
              " 'Common Chickweed',\n",
              " 'Sugar beet',\n",
              " 'Sugar beet',\n",
              " 'Common Chickweed',\n",
              " 'Common Chickweed',\n",
              " 'Fat Hen',\n",
              " 'Common wheat',\n",
              " 'Fat Hen',\n",
              " 'Charlock',\n",
              " 'Loose Silky-bent',\n",
              " 'Common Chickweed',\n",
              " 'Loose Silky-bent',\n",
              " 'Small-flowered Cranesbill',\n",
              " 'Shepherds Purse',\n",
              " 'Common Chickweed',\n",
              " 'Fat Hen',\n",
              " 'Sugar beet',\n",
              " 'Common wheat',\n",
              " 'Small-flowered Cranesbill',\n",
              " 'Sugar beet',\n",
              " 'Charlock',\n",
              " 'Scentless Mayweed',\n",
              " 'Loose Silky-bent',\n",
              " 'Maize',\n",
              " 'Scentless Mayweed',\n",
              " 'Loose Silky-bent',\n",
              " 'Small-flowered Cranesbill',\n",
              " 'Common Chickweed',\n",
              " 'Fat Hen',\n",
              " 'Loose Silky-bent',\n",
              " 'Cleavers',\n",
              " 'Charlock',\n",
              " 'Loose Silky-bent',\n",
              " 'Scentless Mayweed',\n",
              " 'Scentless Mayweed',\n",
              " 'Shepherds Purse',\n",
              " 'Loose Silky-bent',\n",
              " 'Scentless Mayweed',\n",
              " 'Common wheat',\n",
              " 'Common Chickweed',\n",
              " 'Common Chickweed',\n",
              " 'Shepherds Purse',\n",
              " 'Maize',\n",
              " 'Shepherds Purse',\n",
              " 'Common Chickweed',\n",
              " 'Common Chickweed',\n",
              " 'Common Chickweed',\n",
              " 'Loose Silky-bent',\n",
              " 'Cleavers',\n",
              " 'Loose Silky-bent',\n",
              " 'Loose Silky-bent',\n",
              " 'Loose Silky-bent',\n",
              " 'Small-flowered Cranesbill',\n",
              " 'Loose Silky-bent',\n",
              " 'Loose Silky-bent',\n",
              " 'Scentless Mayweed',\n",
              " 'Loose Silky-bent',\n",
              " 'Common Chickweed',\n",
              " 'Fat Hen',\n",
              " 'Fat Hen',\n",
              " 'Small-flowered Cranesbill',\n",
              " 'Loose Silky-bent',\n",
              " 'Charlock',\n",
              " 'Scentless Mayweed',\n",
              " 'Black-grass',\n",
              " 'Charlock',\n",
              " 'Loose Silky-bent',\n",
              " 'Common wheat',\n",
              " 'Common Chickweed',\n",
              " 'Loose Silky-bent',\n",
              " 'Common Chickweed',\n",
              " 'Cleavers',\n",
              " 'Loose Silky-bent',\n",
              " 'Charlock',\n",
              " 'Charlock',\n",
              " 'Small-flowered Cranesbill',\n",
              " 'Cleavers',\n",
              " 'Fat Hen',\n",
              " 'Common Chickweed',\n",
              " 'Fat Hen',\n",
              " 'Shepherds Purse',\n",
              " 'Fat Hen',\n",
              " 'Charlock',\n",
              " 'Fat Hen',\n",
              " 'Loose Silky-bent',\n",
              " 'Small-flowered Cranesbill',\n",
              " 'Cleavers',\n",
              " 'Maize',\n",
              " 'Loose Silky-bent',\n",
              " 'Small-flowered Cranesbill',\n",
              " 'Common Chickweed',\n",
              " 'Scentless Mayweed',\n",
              " 'Loose Silky-bent',\n",
              " 'Common Chickweed',\n",
              " 'Small-flowered Cranesbill',\n",
              " 'Common wheat',\n",
              " 'Fat Hen',\n",
              " 'Fat Hen',\n",
              " 'Common Chickweed',\n",
              " 'Common Chickweed',\n",
              " 'Maize',\n",
              " 'Fat Hen',\n",
              " 'Cleavers',\n",
              " 'Shepherds Purse',\n",
              " 'Cleavers',\n",
              " 'Common Chickweed',\n",
              " 'Loose Silky-bent',\n",
              " 'Loose Silky-bent',\n",
              " 'Cleavers',\n",
              " 'Small-flowered Cranesbill',\n",
              " 'Charlock',\n",
              " 'Sugar beet',\n",
              " 'Common Chickweed',\n",
              " 'Maize',\n",
              " 'Small-flowered Cranesbill',\n",
              " 'Cleavers',\n",
              " 'Shepherds Purse',\n",
              " 'Loose Silky-bent',\n",
              " 'Fat Hen',\n",
              " 'Small-flowered Cranesbill',\n",
              " 'Fat Hen',\n",
              " 'Common Chickweed',\n",
              " 'Loose Silky-bent',\n",
              " 'Maize',\n",
              " 'Common Chickweed',\n",
              " 'Common Chickweed',\n",
              " 'Common wheat',\n",
              " 'Cleavers',\n",
              " 'Charlock',\n",
              " 'Small-flowered Cranesbill',\n",
              " 'Common Chickweed',\n",
              " 'Loose Silky-bent',\n",
              " 'Maize',\n",
              " 'Common Chickweed',\n",
              " 'Maize',\n",
              " 'Small-flowered Cranesbill',\n",
              " 'Cleavers',\n",
              " 'Fat Hen',\n",
              " 'Shepherds Purse',\n",
              " 'Scentless Mayweed',\n",
              " 'Shepherds Purse',\n",
              " 'Charlock',\n",
              " 'Loose Silky-bent',\n",
              " 'Loose Silky-bent',\n",
              " 'Small-flowered Cranesbill',\n",
              " 'Common Chickweed',\n",
              " 'Small-flowered Cranesbill',\n",
              " 'Scentless Mayweed',\n",
              " 'Common Chickweed',\n",
              " 'Fat Hen',\n",
              " 'Cleavers',\n",
              " 'Loose Silky-bent',\n",
              " 'Loose Silky-bent',\n",
              " 'Maize',\n",
              " 'Sugar beet',\n",
              " 'Maize',\n",
              " 'Loose Silky-bent',\n",
              " 'Common Chickweed',\n",
              " 'Common Chickweed',\n",
              " 'Maize',\n",
              " 'Common Chickweed',\n",
              " 'Loose Silky-bent',\n",
              " 'Scentless Mayweed',\n",
              " 'Charlock',\n",
              " 'Maize',\n",
              " 'Small-flowered Cranesbill',\n",
              " 'Sugar beet',\n",
              " 'Loose Silky-bent',\n",
              " 'Loose Silky-bent',\n",
              " 'Small-flowered Cranesbill',\n",
              " 'Fat Hen',\n",
              " 'Shepherds Purse',\n",
              " 'Common Chickweed',\n",
              " 'Cleavers',\n",
              " 'Small-flowered Cranesbill',\n",
              " 'Sugar beet',\n",
              " 'Sugar beet',\n",
              " 'Charlock',\n",
              " 'Loose Silky-bent',\n",
              " 'Common wheat',\n",
              " 'Cleavers',\n",
              " 'Fat Hen',\n",
              " 'Loose Silky-bent',\n",
              " 'Scentless Mayweed',\n",
              " 'Common wheat',\n",
              " 'Shepherds Purse',\n",
              " 'Loose Silky-bent',\n",
              " 'Fat Hen',\n",
              " 'Charlock',\n",
              " 'Loose Silky-bent',\n",
              " 'Small-flowered Cranesbill',\n",
              " 'Sugar beet',\n",
              " 'Charlock',\n",
              " 'Charlock',\n",
              " 'Small-flowered Cranesbill',\n",
              " 'Small-flowered Cranesbill',\n",
              " 'Small-flowered Cranesbill',\n",
              " 'Black-grass',\n",
              " 'Fat Hen',\n",
              " 'Small-flowered Cranesbill',\n",
              " 'Sugar beet',\n",
              " 'Charlock',\n",
              " 'Scentless Mayweed',\n",
              " 'Loose Silky-bent',\n",
              " 'Black-grass',\n",
              " 'Sugar beet',\n",
              " 'Shepherds Purse',\n",
              " 'Cleavers',\n",
              " 'Shepherds Purse',\n",
              " 'Loose Silky-bent',\n",
              " 'Shepherds Purse',\n",
              " 'Small-flowered Cranesbill',\n",
              " 'Scentless Mayweed',\n",
              " 'Common Chickweed',\n",
              " 'Charlock',\n",
              " 'Cleavers',\n",
              " 'Fat Hen',\n",
              " 'Shepherds Purse',\n",
              " 'Maize',\n",
              " 'Black-grass',\n",
              " 'Sugar beet',\n",
              " 'Loose Silky-bent',\n",
              " 'Fat Hen',\n",
              " 'Loose Silky-bent',\n",
              " 'Charlock',\n",
              " 'Fat Hen',\n",
              " 'Loose Silky-bent',\n",
              " 'Loose Silky-bent',\n",
              " 'Common Chickweed',\n",
              " 'Scentless Mayweed',\n",
              " 'Small-flowered Cranesbill',\n",
              " 'Small-flowered Cranesbill',\n",
              " 'Common Chickweed',\n",
              " 'Charlock',\n",
              " 'Cleavers',\n",
              " 'Loose Silky-bent',\n",
              " 'Charlock',\n",
              " 'Loose Silky-bent',\n",
              " 'Scentless Mayweed',\n",
              " 'Small-flowered Cranesbill',\n",
              " 'Common Chickweed',\n",
              " 'Sugar beet',\n",
              " 'Common Chickweed',\n",
              " 'Common Chickweed',\n",
              " 'Charlock',\n",
              " 'Sugar beet',\n",
              " 'Fat Hen',\n",
              " 'Loose Silky-bent',\n",
              " 'Loose Silky-bent',\n",
              " 'Common wheat',\n",
              " 'Common Chickweed',\n",
              " 'Charlock',\n",
              " 'Fat Hen',\n",
              " 'Loose Silky-bent',\n",
              " 'Scentless Mayweed',\n",
              " 'Loose Silky-bent',\n",
              " 'Loose Silky-bent',\n",
              " 'Scentless Mayweed',\n",
              " 'Sugar beet',\n",
              " 'Common Chickweed',\n",
              " 'Common Chickweed',\n",
              " 'Loose Silky-bent',\n",
              " 'Sugar beet',\n",
              " 'Scentless Mayweed',\n",
              " 'Scentless Mayweed',\n",
              " 'Fat Hen',\n",
              " 'Charlock',\n",
              " 'Shepherds Purse',\n",
              " 'Charlock',\n",
              " 'Shepherds Purse',\n",
              " 'Common Chickweed',\n",
              " 'Maize',\n",
              " 'Sugar beet',\n",
              " 'Scentless Mayweed',\n",
              " 'Shepherds Purse',\n",
              " 'Charlock',\n",
              " 'Loose Silky-bent',\n",
              " 'Fat Hen',\n",
              " 'Small-flowered Cranesbill',\n",
              " 'Scentless Mayweed',\n",
              " 'Common wheat',\n",
              " 'Loose Silky-bent',\n",
              " 'Loose Silky-bent',\n",
              " 'Small-flowered Cranesbill',\n",
              " 'Small-flowered Cranesbill',\n",
              " 'Loose Silky-bent',\n",
              " 'Sugar beet',\n",
              " 'Fat Hen',\n",
              " 'Common Chickweed',\n",
              " 'Sugar beet',\n",
              " 'Fat Hen',\n",
              " 'Charlock',\n",
              " 'Common Chickweed',\n",
              " 'Loose Silky-bent',\n",
              " 'Loose Silky-bent',\n",
              " 'Common wheat',\n",
              " 'Small-flowered Cranesbill',\n",
              " 'Scentless Mayweed',\n",
              " 'Cleavers',\n",
              " 'Sugar beet',\n",
              " 'Small-flowered Cranesbill',\n",
              " 'Loose Silky-bent',\n",
              " 'Cleavers',\n",
              " 'Fat Hen',\n",
              " 'Small-flowered Cranesbill',\n",
              " 'Small-flowered Cranesbill',\n",
              " 'Small-flowered Cranesbill',\n",
              " 'Loose Silky-bent',\n",
              " 'Loose Silky-bent',\n",
              " 'Fat Hen',\n",
              " 'Loose Silky-bent',\n",
              " 'Common Chickweed',\n",
              " 'Charlock',\n",
              " 'Scentless Mayweed',\n",
              " 'Black-grass',\n",
              " 'Common Chickweed',\n",
              " 'Common Chickweed',\n",
              " 'Charlock',\n",
              " 'Scentless Mayweed',\n",
              " 'Sugar beet',\n",
              " 'Small-flowered Cranesbill',\n",
              " 'Common Chickweed',\n",
              " 'Small-flowered Cranesbill',\n",
              " 'Scentless Mayweed',\n",
              " 'Shepherds Purse',\n",
              " 'Sugar beet',\n",
              " 'Common Chickweed',\n",
              " 'Scentless Mayweed',\n",
              " 'Charlock',\n",
              " 'Common Chickweed',\n",
              " 'Sugar beet',\n",
              " 'Common Chickweed',\n",
              " 'Small-flowered Cranesbill',\n",
              " 'Cleavers',\n",
              " 'Loose Silky-bent',\n",
              " 'Fat Hen',\n",
              " 'Charlock',\n",
              " 'Loose Silky-bent',\n",
              " 'Charlock',\n",
              " 'Loose Silky-bent',\n",
              " 'Scentless Mayweed',\n",
              " 'Small-flowered Cranesbill',\n",
              " 'Sugar beet',\n",
              " 'Common wheat',\n",
              " 'Common Chickweed',\n",
              " 'Shepherds Purse',\n",
              " 'Small-flowered Cranesbill',\n",
              " 'Common Chickweed',\n",
              " 'Shepherds Purse',\n",
              " 'Scentless Mayweed',\n",
              " 'Loose Silky-bent',\n",
              " 'Common wheat',\n",
              " 'Loose Silky-bent',\n",
              " 'Loose Silky-bent',\n",
              " 'Loose Silky-bent',\n",
              " 'Charlock',\n",
              " 'Scentless Mayweed',\n",
              " 'Sugar beet',\n",
              " 'Loose Silky-bent',\n",
              " 'Common wheat',\n",
              " 'Common Chickweed',\n",
              " 'Loose Silky-bent',\n",
              " 'Loose Silky-bent',\n",
              " 'Common wheat',\n",
              " 'Small-flowered Cranesbill',\n",
              " 'Small-flowered Cranesbill',\n",
              " 'Fat Hen',\n",
              " 'Common Chickweed',\n",
              " 'Maize',\n",
              " 'Small-flowered Cranesbill',\n",
              " 'Small-flowered Cranesbill',\n",
              " 'Charlock',\n",
              " 'Loose Silky-bent',\n",
              " 'Maize',\n",
              " 'Cleavers',\n",
              " 'Loose Silky-bent',\n",
              " 'Loose Silky-bent',\n",
              " 'Small-flowered Cranesbill',\n",
              " 'Charlock',\n",
              " 'Small-flowered Cranesbill',\n",
              " 'Common Chickweed',\n",
              " 'Small-flowered Cranesbill',\n",
              " 'Loose Silky-bent',\n",
              " 'Loose Silky-bent',\n",
              " 'Loose Silky-bent',\n",
              " 'Scentless Mayweed',\n",
              " 'Common Chickweed',\n",
              " 'Maize',\n",
              " 'Shepherds Purse',\n",
              " 'Common Chickweed',\n",
              " 'Fat Hen',\n",
              " 'Fat Hen',\n",
              " 'Sugar beet',\n",
              " 'Common wheat',\n",
              " 'Scentless Mayweed',\n",
              " 'Small-flowered Cranesbill',\n",
              " 'Charlock',\n",
              " 'Sugar beet',\n",
              " 'Shepherds Purse',\n",
              " 'Charlock',\n",
              " 'Loose Silky-bent',\n",
              " 'Loose Silky-bent',\n",
              " 'Scentless Mayweed',\n",
              " 'Black-grass',\n",
              " 'Common Chickweed',\n",
              " 'Shepherds Purse',\n",
              " 'Sugar beet',\n",
              " 'Loose Silky-bent',\n",
              " 'Cleavers',\n",
              " 'Common wheat',\n",
              " 'Scentless Mayweed',\n",
              " 'Common Chickweed',\n",
              " 'Loose Silky-bent',\n",
              " 'Loose Silky-bent',\n",
              " 'Common Chickweed',\n",
              " 'Loose Silky-bent',\n",
              " 'Loose Silky-bent',\n",
              " 'Common Chickweed',\n",
              " 'Shepherds Purse',\n",
              " 'Loose Silky-bent',\n",
              " 'Scentless Mayweed',\n",
              " 'Small-flowered Cranesbill',\n",
              " 'Small-flowered Cranesbill',\n",
              " 'Loose Silky-bent',\n",
              " 'Loose Silky-bent',\n",
              " 'Black-grass',\n",
              " 'Cleavers',\n",
              " 'Scentless Mayweed',\n",
              " 'Cleavers',\n",
              " 'Cleavers',\n",
              " 'Common wheat',\n",
              " 'Loose Silky-bent',\n",
              " 'Cleavers',\n",
              " 'Common Chickweed',\n",
              " 'Common Chickweed',\n",
              " 'Maize',\n",
              " 'Shepherds Purse',\n",
              " 'Fat Hen',\n",
              " 'Scentless Mayweed',\n",
              " 'Common Chickweed',\n",
              " 'Black-grass',\n",
              " 'Loose Silky-bent',\n",
              " 'Black-grass',\n",
              " 'Fat Hen',\n",
              " 'Small-flowered Cranesbill',\n",
              " 'Loose Silky-bent',\n",
              " 'Scentless Mayweed',\n",
              " 'Common wheat',\n",
              " 'Fat Hen',\n",
              " 'Shepherds Purse',\n",
              " 'Maize',\n",
              " 'Sugar beet',\n",
              " 'Loose Silky-bent',\n",
              " 'Scentless Mayweed',\n",
              " 'Scentless Mayweed',\n",
              " 'Loose Silky-bent',\n",
              " 'Cleavers',\n",
              " 'Scentless Mayweed',\n",
              " 'Sugar beet',\n",
              " 'Fat Hen',\n",
              " 'Scentless Mayweed',\n",
              " 'Common Chickweed',\n",
              " 'Scentless Mayweed',\n",
              " 'Loose Silky-bent',\n",
              " 'Loose Silky-bent',\n",
              " 'Scentless Mayweed',\n",
              " 'Scentless Mayweed',\n",
              " 'Scentless Mayweed',\n",
              " 'Shepherds Purse',\n",
              " 'Maize',\n",
              " 'Sugar beet',\n",
              " 'Scentless Mayweed',\n",
              " 'Common Chickweed',\n",
              " 'Fat Hen',\n",
              " 'Scentless Mayweed',\n",
              " 'Scentless Mayweed',\n",
              " 'Small-flowered Cranesbill',\n",
              " 'Small-flowered Cranesbill',\n",
              " 'Scentless Mayweed',\n",
              " 'Maize',\n",
              " 'Loose Silky-bent',\n",
              " 'Common Chickweed',\n",
              " 'Small-flowered Cranesbill',\n",
              " 'Scentless Mayweed',\n",
              " 'Charlock',\n",
              " 'Fat Hen',\n",
              " 'Loose Silky-bent',\n",
              " 'Scentless Mayweed',\n",
              " 'Common Chickweed',\n",
              " 'Loose Silky-bent',\n",
              " 'Sugar beet',\n",
              " 'Sugar beet',\n",
              " 'Cleavers',\n",
              " 'Loose Silky-bent',\n",
              " 'Common Chickweed',\n",
              " 'Shepherds Purse',\n",
              " 'Scentless Mayweed',\n",
              " 'Scentless Mayweed',\n",
              " 'Scentless Mayweed',\n",
              " 'Common wheat',\n",
              " 'Fat Hen',\n",
              " 'Common Chickweed',\n",
              " 'Small-flowered Cranesbill',\n",
              " 'Common wheat',\n",
              " 'Common Chickweed',\n",
              " 'Shepherds Purse',\n",
              " 'Charlock',\n",
              " 'Loose Silky-bent',\n",
              " 'Fat Hen',\n",
              " 'Maize',\n",
              " 'Charlock',\n",
              " 'Sugar beet',\n",
              " 'Loose Silky-bent',\n",
              " 'Small-flowered Cranesbill',\n",
              " 'Small-flowered Cranesbill',\n",
              " 'Charlock',\n",
              " 'Common Chickweed',\n",
              " 'Loose Silky-bent',\n",
              " 'Sugar beet',\n",
              " 'Loose Silky-bent',\n",
              " 'Common Chickweed',\n",
              " 'Maize',\n",
              " 'Scentless Mayweed',\n",
              " 'Charlock',\n",
              " 'Fat Hen',\n",
              " 'Loose Silky-bent',\n",
              " 'Sugar beet',\n",
              " 'Loose Silky-bent',\n",
              " 'Common wheat',\n",
              " 'Cleavers',\n",
              " 'Small-flowered Cranesbill',\n",
              " 'Scentless Mayweed',\n",
              " 'Black-grass',\n",
              " 'Common Chickweed',\n",
              " 'Loose Silky-bent',\n",
              " 'Fat Hen',\n",
              " 'Common Chickweed',\n",
              " 'Scentless Mayweed',\n",
              " 'Common wheat',\n",
              " 'Loose Silky-bent',\n",
              " 'Fat Hen',\n",
              " 'Loose Silky-bent',\n",
              " 'Black-grass',\n",
              " 'Common wheat',\n",
              " 'Small-flowered Cranesbill',\n",
              " 'Scentless Mayweed',\n",
              " 'Scentless Mayweed',\n",
              " 'Fat Hen',\n",
              " 'Common Chickweed',\n",
              " 'Small-flowered Cranesbill',\n",
              " 'Common Chickweed',\n",
              " 'Loose Silky-bent',\n",
              " 'Sugar beet',\n",
              " 'Scentless Mayweed',\n",
              " 'Charlock',\n",
              " 'Common Chickweed',\n",
              " 'Loose Silky-bent',\n",
              " 'Charlock',\n",
              " 'Small-flowered Cranesbill',\n",
              " 'Loose Silky-bent',\n",
              " 'Loose Silky-bent',\n",
              " 'Sugar beet',\n",
              " 'Scentless Mayweed',\n",
              " 'Common Chickweed',\n",
              " 'Sugar beet',\n",
              " 'Small-flowered Cranesbill',\n",
              " 'Fat Hen',\n",
              " 'Sugar beet',\n",
              " 'Loose Silky-bent',\n",
              " 'Common Chickweed',\n",
              " 'Loose Silky-bent',\n",
              " 'Sugar beet',\n",
              " 'Common wheat',\n",
              " 'Common Chickweed',\n",
              " 'Scentless Mayweed',\n",
              " 'Scentless Mayweed',\n",
              " 'Charlock',\n",
              " 'Charlock',\n",
              " 'Loose Silky-bent',\n",
              " 'Sugar beet',\n",
              " 'Cleavers',\n",
              " 'Charlock',\n",
              " 'Sugar beet',\n",
              " 'Maize',\n",
              " 'Loose Silky-bent',\n",
              " 'Sugar beet',\n",
              " 'Sugar beet',\n",
              " 'Loose Silky-bent',\n",
              " 'Scentless Mayweed',\n",
              " 'Fat Hen',\n",
              " 'Common wheat',\n",
              " 'Sugar beet',\n",
              " 'Scentless Mayweed',\n",
              " 'Loose Silky-bent',\n",
              " 'Fat Hen',\n",
              " 'Sugar beet',\n",
              " 'Small-flowered Cranesbill',\n",
              " 'Loose Silky-bent',\n",
              " 'Cleavers',\n",
              " 'Small-flowered Cranesbill',\n",
              " 'Fat Hen',\n",
              " 'Fat Hen',\n",
              " 'Shepherds Purse',\n",
              " 'Black-grass',\n",
              " 'Common Chickweed',\n",
              " 'Shepherds Purse',\n",
              " 'Small-flowered Cranesbill',\n",
              " 'Small-flowered Cranesbill',\n",
              " 'Cleavers',\n",
              " 'Scentless Mayweed',\n",
              " 'Charlock',\n",
              " 'Loose Silky-bent',\n",
              " 'Sugar beet',\n",
              " 'Common Chickweed',\n",
              " 'Black-grass',\n",
              " 'Scentless Mayweed',\n",
              " 'Scentless Mayweed',\n",
              " 'Charlock',\n",
              " 'Charlock',\n",
              " 'Sugar beet',\n",
              " 'Loose Silky-bent',\n",
              " 'Shepherds Purse',\n",
              " 'Loose Silky-bent',\n",
              " 'Small-flowered Cranesbill',\n",
              " 'Cleavers',\n",
              " 'Scentless Mayweed',\n",
              " 'Loose Silky-bent',\n",
              " 'Cleavers',\n",
              " 'Fat Hen',\n",
              " 'Fat Hen',\n",
              " 'Charlock',\n",
              " 'Scentless Mayweed',\n",
              " 'Sugar beet',\n",
              " 'Charlock',\n",
              " 'Small-flowered Cranesbill',\n",
              " 'Sugar beet',\n",
              " 'Maize',\n",
              " 'Common Chickweed',\n",
              " 'Scentless Mayweed',\n",
              " 'Shepherds Purse',\n",
              " 'Cleavers',\n",
              " 'Fat Hen',\n",
              " 'Common Chickweed',\n",
              " 'Shepherds Purse',\n",
              " 'Cleavers',\n",
              " 'Charlock',\n",
              " 'Fat Hen',\n",
              " 'Black-grass',\n",
              " 'Charlock',\n",
              " 'Scentless Mayweed',\n",
              " 'Sugar beet',\n",
              " 'Fat Hen',\n",
              " 'Loose Silky-bent',\n",
              " 'Common Chickweed',\n",
              " 'Common wheat',\n",
              " 'Loose Silky-bent',\n",
              " 'Loose Silky-bent',\n",
              " 'Scentless Mayweed',\n",
              " 'Scentless Mayweed',\n",
              " 'Shepherds Purse',\n",
              " 'Loose Silky-bent',\n",
              " 'Sugar beet',\n",
              " 'Sugar beet',\n",
              " 'Charlock',\n",
              " 'Common wheat']"
            ]
          },
          "metadata": {},
          "execution_count": 32
        }
      ]
    },
    {
      "cell_type": "code",
      "metadata": {
        "id": "ayspthECBoE7"
      },
      "source": [
        "submission = pd.DataFrame()\n",
        "submission['file'] = test_generator.filenames\n",
        "submission['file'] = submission['file'].str.replace(r'test/', '')\n",
        "submission['species'] = class_list\n",
        "submission.to_csv('submission1.csv', index=False)"
      ],
      "execution_count": null,
      "outputs": []
    },
    {
      "cell_type": "code",
      "metadata": {
        "id": "3d7lg33o3vDO"
      },
      "source": [
        "submission.to_csv('submission1.csv', index=False)"
      ],
      "execution_count": null,
      "outputs": []
    },
    {
      "cell_type": "code",
      "metadata": {
        "id": "NmbMyk7h3_lN"
      },
      "source": [
        ""
      ],
      "execution_count": null,
      "outputs": []
    },
    {
      "cell_type": "markdown",
      "metadata": {
        "id": "pbWF_2eEmyH3"
      },
      "source": [
        "#RES"
      ]
    },
    {
      "cell_type": "code",
      "metadata": {
        "colab": {
          "base_uri": "https://localhost:8080/"
        },
        "id": "FM1x0rMPmzu9",
        "outputId": "d56e6bff-2c9b-4a00-8f7d-5cf43aeb049f"
      },
      "source": [
        "checkpointe = ModelCheckpoint(filepath=os.path.join('/kaggle/input/','resnet50','.h5'), monitor='val_loss', mode='min', save_best_only=True)\n",
        "reduce_lre = ReduceLROnPlateau(monitor='val_loss', factor=0.2, patience=1, min_lr=0.00001)\n",
        "early_stope = EarlyStopping(monitor='val_loss', min_delta=0, patience=3, verbose=1, mode='min', restore_best_weights=True)\n",
        "callbacksres=[checkpointe,reduce_lre,early_stope]\n",
        "train_gen_res, val_gen_res = get_training_data(model = 'resnet50')"
      ],
      "execution_count": 38,
      "outputs": [
        {
          "output_type": "stream",
          "text": [
            "Found 4279 images belonging to 12 classes.\n",
            "Found 471 images belonging to 12 classes.\n"
          ],
          "name": "stdout"
        }
      ]
    },
    {
      "cell_type": "code",
      "metadata": {
        "colab": {
          "base_uri": "https://localhost:8080/"
        },
        "id": "NOMfhfqCnA3S",
        "outputId": "f09c5279-12b5-4f36-fa3f-d567de91b843"
      },
      "source": [
        "prior_resnet = ResNet50(weights='imagenet', include_top=False, pooling='avg', input_shape=(224, 224, 3))\n",
        "xr = prior_resnet.output\n",
        "xr = Dropout(0.8)(xr)\n",
        "xr = Dense(1024)(xr)\n",
        "xr = BatchNormalization()(xr)\n",
        "xr = swish(xr)\n",
        "xr = Dropout(0.6)(xr)\n",
        "lastres = Dense(12, activation='softmax')(xr)\n",
        "res_model = Model(inputs = prior_resnet.input, outputs = lastres)\n",
        "\n",
        "for layer in prior_resnet.layers[0:-9]:\n",
        "    layer.trainable = False\n",
        "    \n",
        "res_model.compile(Adam(lr=0.001), loss='categorical_crossentropy', metrics=['accuracy'])"
      ],
      "execution_count": 41,
      "outputs": [
        {
          "output_type": "stream",
          "text": [
            "/usr/local/lib/python3.7/dist-packages/keras/optimizer_v2/optimizer_v2.py:356: UserWarning: The `lr` argument is deprecated, use `learning_rate` instead.\n",
            "  \"The `lr` argument is deprecated, use `learning_rate` instead.\")\n"
          ],
          "name": "stderr"
        }
      ]
    },
    {
      "cell_type": "code",
      "metadata": {
        "colab": {
          "base_uri": "https://localhost:8080/"
        },
        "id": "ap1Zk5GJnEEJ",
        "outputId": "d682c7cf-42bc-4aae-c291-326e4e04f223"
      },
      "source": [
        "res = res_model.fit_generator(train_gen_res,\n",
        "                      validation_data = val_gen_res,\n",
        "                      epochs = 50,\n",
        "                      verbose = 1,\n",
        "                      class_weight=create_class_weight(labels_dict),\n",
        "                      callbacks = callbacksres)"
      ],
      "execution_count": 42,
      "outputs": [
        {
          "output_type": "stream",
          "text": [
            "/usr/local/lib/python3.7/dist-packages/keras/engine/training.py:1972: UserWarning: `Model.fit_generator` is deprecated and will be removed in a future version. Please use `Model.fit`, which supports generators.\n",
            "  warnings.warn('`Model.fit_generator` is deprecated and '\n"
          ],
          "name": "stderr"
        },
        {
          "output_type": "stream",
          "text": [
            "Epoch 1/50\n",
            "134/134 [==============================] - 79s 558ms/step - loss: 1.2555 - accuracy: 0.6149 - val_loss: 0.5305 - val_accuracy: 0.8174\n",
            "Epoch 2/50\n",
            "134/134 [==============================] - 72s 536ms/step - loss: 0.4863 - accuracy: 0.8343 - val_loss: 0.4955 - val_accuracy: 0.8747\n",
            "Epoch 3/50\n",
            "134/134 [==============================] - 72s 534ms/step - loss: 0.3119 - accuracy: 0.8920 - val_loss: 0.3308 - val_accuracy: 0.8960\n",
            "Epoch 4/50\n",
            "134/134 [==============================] - 72s 535ms/step - loss: 0.2536 - accuracy: 0.9131 - val_loss: 0.4057 - val_accuracy: 0.8747\n",
            "Epoch 5/50\n",
            "134/134 [==============================] - 71s 530ms/step - loss: 0.1721 - accuracy: 0.9409 - val_loss: 0.2664 - val_accuracy: 0.9172\n",
            "Epoch 6/50\n",
            "134/134 [==============================] - 72s 538ms/step - loss: 0.1201 - accuracy: 0.9577 - val_loss: 0.2547 - val_accuracy: 0.9257\n",
            "Epoch 7/50\n",
            "134/134 [==============================] - 73s 540ms/step - loss: 0.0932 - accuracy: 0.9694 - val_loss: 0.2763 - val_accuracy: 0.9236\n",
            "Epoch 8/50\n",
            "134/134 [==============================] - 73s 541ms/step - loss: 0.0813 - accuracy: 0.9741 - val_loss: 0.2490 - val_accuracy: 0.9278\n",
            "Epoch 9/50\n",
            "134/134 [==============================] - 73s 538ms/step - loss: 0.0828 - accuracy: 0.9741 - val_loss: 0.2435 - val_accuracy: 0.9342\n",
            "Epoch 10/50\n",
            "134/134 [==============================] - 73s 539ms/step - loss: 0.0778 - accuracy: 0.9762 - val_loss: 0.2439 - val_accuracy: 0.9299\n",
            "Epoch 11/50\n",
            "134/134 [==============================] - 72s 537ms/step - loss: 0.0630 - accuracy: 0.9801 - val_loss: 0.2466 - val_accuracy: 0.9257\n",
            "Epoch 12/50\n",
            "134/134 [==============================] - 73s 541ms/step - loss: 0.0669 - accuracy: 0.9790 - val_loss: 0.2464 - val_accuracy: 0.9299\n",
            "Restoring model weights from the end of the best epoch.\n",
            "Epoch 00012: early stopping\n"
          ],
          "name": "stdout"
        }
      ]
    },
    {
      "cell_type": "code",
      "metadata": {
        "id": "PZLdDIG3wN5u"
      },
      "source": [
        ""
      ],
      "execution_count": null,
      "outputs": []
    },
    {
      "cell_type": "code",
      "metadata": {
        "colab": {
          "base_uri": "https://localhost:8080/",
          "height": 1000
        },
        "id": "0HkbtPRdwOH5",
        "outputId": "25dc6b88-515d-4970-887f-d6781784a5be"
      },
      "source": [
        "#val\n",
        "import itertools\n",
        "predictions = res_model.predict_generator(val_gen_vgg)\n",
        "y_predval_vgg = np.argmax(predictions, axis=1)\n",
        "cf_matrix = confusion_matrix(val_gen_vgg.classes, y_predval_vgg)\n",
        "print('Classification Report')\n",
        "print(classification_report(val_gen_vgg.classes, y_predval_vgg, target_names=Classes))\n",
        "#plt.figure(figsize=(20,20))\n",
        "confusionMTX = confusion_matrix(val_gen_vgg.classes, y_predval_vgg) \n",
        "# plot the confusion matrix\n",
        "plot_confusion_matrix(confusionMTX, classes = Classes) \n",
        "#sns.heatmap(cf_matrix, annot=True, xticklabels=Classes, yticklabels=Classes, cmap='Blues')"
      ],
      "execution_count": 43,
      "outputs": [
        {
          "output_type": "stream",
          "text": [
            "/usr/local/lib/python3.7/dist-packages/keras/engine/training.py:2035: UserWarning: `Model.predict_generator` is deprecated and will be removed in a future version. Please use `Model.predict`, which supports generators.\n",
            "  warnings.warn('`Model.predict_generator` is deprecated and '\n"
          ],
          "name": "stderr"
        },
        {
          "output_type": "stream",
          "text": [
            "Classification Report\n",
            "                           precision    recall  f1-score   support\n",
            "\n",
            "              Black-grass       0.75      0.81      0.78        26\n",
            "                 Charlock       1.00      0.97      0.99        39\n",
            "                 Cleavers       1.00      0.93      0.96        28\n",
            "         Common Chickweed       0.95      0.98      0.97        61\n",
            "             Common wheat       0.94      0.77      0.85        22\n",
            "                  Fat Hen       0.96      0.98      0.97        47\n",
            "         Loose Silky-bent       0.86      0.92      0.89        65\n",
            "                    Maize       1.00      0.91      0.95        22\n",
            "        Scentless Mayweed       0.88      0.98      0.93        51\n",
            "          Shepherds Purse       1.00      0.83      0.90        23\n",
            "Small-flowered Cranesbill       0.98      0.96      0.97        49\n",
            "               Sugar beet       1.00      0.95      0.97        38\n",
            "\n",
            "                 accuracy                           0.93       471\n",
            "                macro avg       0.94      0.92      0.93       471\n",
            "             weighted avg       0.94      0.93      0.93       471\n",
            "\n"
          ],
          "name": "stdout"
        },
        {
          "output_type": "display_data",
          "data": {
            "image/png": "[encoded data removed]",
            "text/plain": [
              "<Figure size 720x720 with 1 Axes>"
            ]
          },
          "metadata": {
            "needs_background": "light"
          }
        }
      ]
    },
    {
      "cell_type": "markdown",
      "metadata": {
        "id": "LrNz2xfuwOH-"
      },
      "source": [
        "#Predict"
      ]
    },
    {
      "cell_type": "code",
      "metadata": {
        "id": "ffRW0XhOwOIA"
      },
      "source": [
        "test_dir='/kaggle/input/plant-seedlings-classification/test'\n"
      ],
      "execution_count": null,
      "outputs": []
    },
    {
      "cell_type": "code",
      "metadata": {
        "id": "BoIqChxzEn1V"
      },
      "source": [
        ""
      ],
      "execution_count": null,
      "outputs": []
    },
    {
      "cell_type": "code",
      "metadata": {
        "colab": {
          "base_uri": "https://localhost:8080/"
        },
        "id": "pUZmHunFEoBU",
        "outputId": "3ef3d5ee-76fc-495f-8fe8-871602d5ab7c"
      },
      "source": [
        "test_datagen = ImageDataGenerator(preprocessing_function =  vgg16.preprocess_input)\n",
        "    \n",
        "test_generator = test_datagen.flow_from_directory(\n",
        "    directory='/kaggle/input/plant-seedlings-classification/',\n",
        "    classes=['test'],\n",
        "    target_size=(224, 224),\n",
        "    batch_size=32,\n",
        "    shuffle=False,\n",
        "    class_mode='categorical',\n",
        "    seed=1\n",
        ")\n"
      ],
      "execution_count": 53,
      "outputs": [
        {
          "output_type": "stream",
          "text": [
            "Found 794 images belonging to 1 classes.\n"
          ],
          "name": "stdout"
        }
      ]
    },
    {
      "cell_type": "code",
      "metadata": {
        "id": "ZZfH7zhSEoBV"
      },
      "source": [
        "predictions = res_model.predict(test_generator)\n",
        "y_predval_vgg = np.argmax(predictions, axis=1)"
      ],
      "execution_count": 54,
      "outputs": []
    },
    {
      "cell_type": "code",
      "metadata": {
        "id": "QzPZFKxDEoBV"
      },
      "source": [
        "preds = vggmodel.predict(test_generator)"
      ],
      "execution_count": 55,
      "outputs": []
    },
    {
      "cell_type": "code",
      "metadata": {
        "id": "9g1ExWVDEoBV"
      },
      "source": [
        "y_predval=np.argmax(preds,axis=1)"
      ],
      "execution_count": 56,
      "outputs": []
    },
    {
      "cell_type": "code",
      "metadata": {
        "id": "aPlzHA6dEoBW"
      },
      "source": [
        "class_list = []\n",
        "for i in range(preds.shape[0]):\n",
        "    y_class = preds[i,:].argmax(axis=-1)\n",
        "    class_list.append(Classes[y_class])\n",
        "    \n"
      ],
      "execution_count": 57,
      "outputs": []
    },
    {
      "cell_type": "code",
      "metadata": {
        "colab": {
          "base_uri": "https://localhost:8080/"
        },
        "id": "pB5tczj2EoBW",
        "outputId": "9517b485-327b-48d0-a0ee-45c143c18dce"
      },
      "source": [
        "class_list"
      ],
      "execution_count": 58,
      "outputs": [
        {
          "output_type": "execute_result",
          "data": {
            "text/plain": [
              "['Small-flowered Cranesbill',\n",
              " 'Fat Hen',\n",
              " 'Sugar beet',\n",
              " 'Common Chickweed',\n",
              " 'Sugar beet',\n",
              " 'Loose Silky-bent',\n",
              " 'Common Chickweed',\n",
              " 'Fat Hen',\n",
              " 'Loose Silky-bent',\n",
              " 'Loose Silky-bent',\n",
              " 'Fat Hen',\n",
              " 'Small-flowered Cranesbill',\n",
              " 'Sugar beet',\n",
              " 'Scentless Mayweed',\n",
              " 'Sugar beet',\n",
              " 'Fat Hen',\n",
              " 'Scentless Mayweed',\n",
              " 'Scentless Mayweed',\n",
              " 'Common Chickweed',\n",
              " 'Shepherds Purse',\n",
              " 'Common Chickweed',\n",
              " 'Small-flowered Cranesbill',\n",
              " 'Shepherds Purse',\n",
              " 'Sugar beet',\n",
              " 'Sugar beet',\n",
              " 'Maize',\n",
              " 'Scentless Mayweed',\n",
              " 'Scentless Mayweed',\n",
              " 'Common Chickweed',\n",
              " 'Sugar beet',\n",
              " 'Common Chickweed',\n",
              " 'Shepherds Purse',\n",
              " 'Loose Silky-bent',\n",
              " 'Sugar beet',\n",
              " 'Loose Silky-bent',\n",
              " 'Loose Silky-bent',\n",
              " 'Loose Silky-bent',\n",
              " 'Loose Silky-bent',\n",
              " 'Common Chickweed',\n",
              " 'Maize',\n",
              " 'Loose Silky-bent',\n",
              " 'Common wheat',\n",
              " 'Common Chickweed',\n",
              " 'Small-flowered Cranesbill',\n",
              " 'Black-grass',\n",
              " 'Sugar beet',\n",
              " 'Maize',\n",
              " 'Scentless Mayweed',\n",
              " 'Maize',\n",
              " 'Small-flowered Cranesbill',\n",
              " 'Loose Silky-bent',\n",
              " 'Sugar beet',\n",
              " 'Cleavers',\n",
              " 'Loose Silky-bent',\n",
              " 'Maize',\n",
              " 'Fat Hen',\n",
              " 'Charlock',\n",
              " 'Small-flowered Cranesbill',\n",
              " 'Cleavers',\n",
              " 'Loose Silky-bent',\n",
              " 'Sugar beet',\n",
              " 'Cleavers',\n",
              " 'Charlock',\n",
              " 'Common wheat',\n",
              " 'Maize',\n",
              " 'Fat Hen',\n",
              " 'Loose Silky-bent',\n",
              " 'Loose Silky-bent',\n",
              " 'Shepherds Purse',\n",
              " 'Scentless Mayweed',\n",
              " 'Small-flowered Cranesbill',\n",
              " 'Common Chickweed',\n",
              " 'Scentless Mayweed',\n",
              " 'Common Chickweed',\n",
              " 'Common Chickweed',\n",
              " 'Common wheat',\n",
              " 'Loose Silky-bent',\n",
              " 'Scentless Mayweed',\n",
              " 'Scentless Mayweed',\n",
              " 'Loose Silky-bent',\n",
              " 'Fat Hen',\n",
              " 'Common Chickweed',\n",
              " 'Common Chickweed',\n",
              " 'Common wheat',\n",
              " 'Shepherds Purse',\n",
              " 'Sugar beet',\n",
              " 'Cleavers',\n",
              " 'Scentless Mayweed',\n",
              " 'Fat Hen',\n",
              " 'Loose Silky-bent',\n",
              " 'Charlock',\n",
              " 'Loose Silky-bent',\n",
              " 'Fat Hen',\n",
              " 'Loose Silky-bent',\n",
              " 'Common Chickweed',\n",
              " 'Loose Silky-bent',\n",
              " 'Small-flowered Cranesbill',\n",
              " 'Scentless Mayweed',\n",
              " 'Maize',\n",
              " 'Small-flowered Cranesbill',\n",
              " 'Sugar beet',\n",
              " 'Fat Hen',\n",
              " 'Scentless Mayweed',\n",
              " 'Sugar beet',\n",
              " 'Fat Hen',\n",
              " 'Fat Hen',\n",
              " 'Common Chickweed',\n",
              " 'Scentless Mayweed',\n",
              " 'Cleavers',\n",
              " 'Cleavers',\n",
              " 'Loose Silky-bent',\n",
              " 'Charlock',\n",
              " 'Common Chickweed',\n",
              " 'Common Chickweed',\n",
              " 'Shepherds Purse',\n",
              " 'Sugar beet',\n",
              " 'Cleavers',\n",
              " 'Charlock',\n",
              " 'Sugar beet',\n",
              " 'Common Chickweed',\n",
              " 'Common Chickweed',\n",
              " 'Sugar beet',\n",
              " 'Cleavers',\n",
              " 'Black-grass',\n",
              " 'Maize',\n",
              " 'Common wheat',\n",
              " 'Charlock',\n",
              " 'Maize',\n",
              " 'Fat Hen',\n",
              " 'Common Chickweed',\n",
              " 'Sugar beet',\n",
              " 'Sugar beet',\n",
              " 'Common Chickweed',\n",
              " 'Common Chickweed',\n",
              " 'Fat Hen',\n",
              " 'Common wheat',\n",
              " 'Fat Hen',\n",
              " 'Charlock',\n",
              " 'Loose Silky-bent',\n",
              " 'Common Chickweed',\n",
              " 'Loose Silky-bent',\n",
              " 'Small-flowered Cranesbill',\n",
              " 'Shepherds Purse',\n",
              " 'Common Chickweed',\n",
              " 'Fat Hen',\n",
              " 'Sugar beet',\n",
              " 'Common wheat',\n",
              " 'Small-flowered Cranesbill',\n",
              " 'Sugar beet',\n",
              " 'Charlock',\n",
              " 'Scentless Mayweed',\n",
              " 'Loose Silky-bent',\n",
              " 'Maize',\n",
              " 'Scentless Mayweed',\n",
              " 'Loose Silky-bent',\n",
              " 'Small-flowered Cranesbill',\n",
              " 'Common Chickweed',\n",
              " 'Fat Hen',\n",
              " 'Loose Silky-bent',\n",
              " 'Cleavers',\n",
              " 'Charlock',\n",
              " 'Loose Silky-bent',\n",
              " 'Scentless Mayweed',\n",
              " 'Scentless Mayweed',\n",
              " 'Shepherds Purse',\n",
              " 'Loose Silky-bent',\n",
              " 'Scentless Mayweed',\n",
              " 'Common wheat',\n",
              " 'Common Chickweed',\n",
              " 'Common Chickweed',\n",
              " 'Shepherds Purse',\n",
              " 'Maize',\n",
              " 'Shepherds Purse',\n",
              " 'Common Chickweed',\n",
              " 'Common Chickweed',\n",
              " 'Common Chickweed',\n",
              " 'Loose Silky-bent',\n",
              " 'Cleavers',\n",
              " 'Loose Silky-bent',\n",
              " 'Loose Silky-bent',\n",
              " 'Loose Silky-bent',\n",
              " 'Small-flowered Cranesbill',\n",
              " 'Loose Silky-bent',\n",
              " 'Loose Silky-bent',\n",
              " 'Scentless Mayweed',\n",
              " 'Loose Silky-bent',\n",
              " 'Common Chickweed',\n",
              " 'Fat Hen',\n",
              " 'Fat Hen',\n",
              " 'Small-flowered Cranesbill',\n",
              " 'Loose Silky-bent',\n",
              " 'Charlock',\n",
              " 'Scentless Mayweed',\n",
              " 'Black-grass',\n",
              " 'Charlock',\n",
              " 'Loose Silky-bent',\n",
              " 'Common wheat',\n",
              " 'Common Chickweed',\n",
              " 'Loose Silky-bent',\n",
              " 'Common Chickweed',\n",
              " 'Cleavers',\n",
              " 'Loose Silky-bent',\n",
              " 'Charlock',\n",
              " 'Charlock',\n",
              " 'Small-flowered Cranesbill',\n",
              " 'Cleavers',\n",
              " 'Fat Hen',\n",
              " 'Common Chickweed',\n",
              " 'Fat Hen',\n",
              " 'Shepherds Purse',\n",
              " 'Fat Hen',\n",
              " 'Charlock',\n",
              " 'Fat Hen',\n",
              " 'Loose Silky-bent',\n",
              " 'Small-flowered Cranesbill',\n",
              " 'Cleavers',\n",
              " 'Maize',\n",
              " 'Loose Silky-bent',\n",
              " 'Small-flowered Cranesbill',\n",
              " 'Common Chickweed',\n",
              " 'Scentless Mayweed',\n",
              " 'Loose Silky-bent',\n",
              " 'Common Chickweed',\n",
              " 'Small-flowered Cranesbill',\n",
              " 'Common wheat',\n",
              " 'Fat Hen',\n",
              " 'Fat Hen',\n",
              " 'Common Chickweed',\n",
              " 'Common Chickweed',\n",
              " 'Maize',\n",
              " 'Fat Hen',\n",
              " 'Cleavers',\n",
              " 'Shepherds Purse',\n",
              " 'Cleavers',\n",
              " 'Common Chickweed',\n",
              " 'Loose Silky-bent',\n",
              " 'Loose Silky-bent',\n",
              " 'Cleavers',\n",
              " 'Small-flowered Cranesbill',\n",
              " 'Charlock',\n",
              " 'Sugar beet',\n",
              " 'Common Chickweed',\n",
              " 'Maize',\n",
              " 'Small-flowered Cranesbill',\n",
              " 'Cleavers',\n",
              " 'Shepherds Purse',\n",
              " 'Loose Silky-bent',\n",
              " 'Fat Hen',\n",
              " 'Small-flowered Cranesbill',\n",
              " 'Fat Hen',\n",
              " 'Common Chickweed',\n",
              " 'Loose Silky-bent',\n",
              " 'Maize',\n",
              " 'Common Chickweed',\n",
              " 'Common Chickweed',\n",
              " 'Common wheat',\n",
              " 'Cleavers',\n",
              " 'Charlock',\n",
              " 'Small-flowered Cranesbill',\n",
              " 'Common Chickweed',\n",
              " 'Loose Silky-bent',\n",
              " 'Maize',\n",
              " 'Common Chickweed',\n",
              " 'Maize',\n",
              " 'Small-flowered Cranesbill',\n",
              " 'Cleavers',\n",
              " 'Fat Hen',\n",
              " 'Shepherds Purse',\n",
              " 'Scentless Mayweed',\n",
              " 'Shepherds Purse',\n",
              " 'Charlock',\n",
              " 'Loose Silky-bent',\n",
              " 'Loose Silky-bent',\n",
              " 'Small-flowered Cranesbill',\n",
              " 'Common Chickweed',\n",
              " 'Small-flowered Cranesbill',\n",
              " 'Scentless Mayweed',\n",
              " 'Common Chickweed',\n",
              " 'Fat Hen',\n",
              " 'Cleavers',\n",
              " 'Loose Silky-bent',\n",
              " 'Loose Silky-bent',\n",
              " 'Maize',\n",
              " 'Sugar beet',\n",
              " 'Maize',\n",
              " 'Loose Silky-bent',\n",
              " 'Common Chickweed',\n",
              " 'Common Chickweed',\n",
              " 'Maize',\n",
              " 'Common Chickweed',\n",
              " 'Loose Silky-bent',\n",
              " 'Scentless Mayweed',\n",
              " 'Charlock',\n",
              " 'Maize',\n",
              " 'Small-flowered Cranesbill',\n",
              " 'Sugar beet',\n",
              " 'Loose Silky-bent',\n",
              " 'Loose Silky-bent',\n",
              " 'Small-flowered Cranesbill',\n",
              " 'Fat Hen',\n",
              " 'Shepherds Purse',\n",
              " 'Common Chickweed',\n",
              " 'Cleavers',\n",
              " 'Small-flowered Cranesbill',\n",
              " 'Sugar beet',\n",
              " 'Sugar beet',\n",
              " 'Charlock',\n",
              " 'Loose Silky-bent',\n",
              " 'Common wheat',\n",
              " 'Cleavers',\n",
              " 'Fat Hen',\n",
              " 'Loose Silky-bent',\n",
              " 'Scentless Mayweed',\n",
              " 'Common wheat',\n",
              " 'Shepherds Purse',\n",
              " 'Loose Silky-bent',\n",
              " 'Fat Hen',\n",
              " 'Charlock',\n",
              " 'Loose Silky-bent',\n",
              " 'Small-flowered Cranesbill',\n",
              " 'Sugar beet',\n",
              " 'Charlock',\n",
              " 'Charlock',\n",
              " 'Small-flowered Cranesbill',\n",
              " 'Small-flowered Cranesbill',\n",
              " 'Small-flowered Cranesbill',\n",
              " 'Black-grass',\n",
              " 'Fat Hen',\n",
              " 'Small-flowered Cranesbill',\n",
              " 'Sugar beet',\n",
              " 'Charlock',\n",
              " 'Scentless Mayweed',\n",
              " 'Loose Silky-bent',\n",
              " 'Black-grass',\n",
              " 'Sugar beet',\n",
              " 'Shepherds Purse',\n",
              " 'Cleavers',\n",
              " 'Shepherds Purse',\n",
              " 'Loose Silky-bent',\n",
              " 'Shepherds Purse',\n",
              " 'Small-flowered Cranesbill',\n",
              " 'Scentless Mayweed',\n",
              " 'Common Chickweed',\n",
              " 'Charlock',\n",
              " 'Cleavers',\n",
              " 'Fat Hen',\n",
              " 'Shepherds Purse',\n",
              " 'Maize',\n",
              " 'Black-grass',\n",
              " 'Sugar beet',\n",
              " 'Loose Silky-bent',\n",
              " 'Fat Hen',\n",
              " 'Loose Silky-bent',\n",
              " 'Charlock',\n",
              " 'Fat Hen',\n",
              " 'Loose Silky-bent',\n",
              " 'Loose Silky-bent',\n",
              " 'Common Chickweed',\n",
              " 'Scentless Mayweed',\n",
              " 'Small-flowered Cranesbill',\n",
              " 'Small-flowered Cranesbill',\n",
              " 'Common Chickweed',\n",
              " 'Charlock',\n",
              " 'Cleavers',\n",
              " 'Loose Silky-bent',\n",
              " 'Charlock',\n",
              " 'Loose Silky-bent',\n",
              " 'Scentless Mayweed',\n",
              " 'Small-flowered Cranesbill',\n",
              " 'Common Chickweed',\n",
              " 'Sugar beet',\n",
              " 'Common Chickweed',\n",
              " 'Common Chickweed',\n",
              " 'Charlock',\n",
              " 'Sugar beet',\n",
              " 'Fat Hen',\n",
              " 'Loose Silky-bent',\n",
              " 'Loose Silky-bent',\n",
              " 'Common wheat',\n",
              " 'Common Chickweed',\n",
              " 'Charlock',\n",
              " 'Fat Hen',\n",
              " 'Loose Silky-bent',\n",
              " 'Scentless Mayweed',\n",
              " 'Loose Silky-bent',\n",
              " 'Loose Silky-bent',\n",
              " 'Scentless Mayweed',\n",
              " 'Sugar beet',\n",
              " 'Common Chickweed',\n",
              " 'Common Chickweed',\n",
              " 'Loose Silky-bent',\n",
              " 'Sugar beet',\n",
              " 'Scentless Mayweed',\n",
              " 'Scentless Mayweed',\n",
              " 'Fat Hen',\n",
              " 'Charlock',\n",
              " 'Shepherds Purse',\n",
              " 'Charlock',\n",
              " 'Shepherds Purse',\n",
              " 'Common Chickweed',\n",
              " 'Maize',\n",
              " 'Sugar beet',\n",
              " 'Scentless Mayweed',\n",
              " 'Shepherds Purse',\n",
              " 'Charlock',\n",
              " 'Loose Silky-bent',\n",
              " 'Fat Hen',\n",
              " 'Small-flowered Cranesbill',\n",
              " 'Scentless Mayweed',\n",
              " 'Common wheat',\n",
              " 'Loose Silky-bent',\n",
              " 'Loose Silky-bent',\n",
              " 'Small-flowered Cranesbill',\n",
              " 'Small-flowered Cranesbill',\n",
              " 'Loose Silky-bent',\n",
              " 'Sugar beet',\n",
              " 'Fat Hen',\n",
              " 'Common Chickweed',\n",
              " 'Sugar beet',\n",
              " 'Fat Hen',\n",
              " 'Charlock',\n",
              " 'Common Chickweed',\n",
              " 'Loose Silky-bent',\n",
              " 'Loose Silky-bent',\n",
              " 'Common wheat',\n",
              " 'Small-flowered Cranesbill',\n",
              " 'Scentless Mayweed',\n",
              " 'Cleavers',\n",
              " 'Sugar beet',\n",
              " 'Small-flowered Cranesbill',\n",
              " 'Loose Silky-bent',\n",
              " 'Cleavers',\n",
              " 'Fat Hen',\n",
              " 'Small-flowered Cranesbill',\n",
              " 'Small-flowered Cranesbill',\n",
              " 'Small-flowered Cranesbill',\n",
              " 'Loose Silky-bent',\n",
              " 'Loose Silky-bent',\n",
              " 'Fat Hen',\n",
              " 'Loose Silky-bent',\n",
              " 'Common Chickweed',\n",
              " 'Charlock',\n",
              " 'Scentless Mayweed',\n",
              " 'Black-grass',\n",
              " 'Common Chickweed',\n",
              " 'Common Chickweed',\n",
              " 'Charlock',\n",
              " 'Scentless Mayweed',\n",
              " 'Sugar beet',\n",
              " 'Small-flowered Cranesbill',\n",
              " 'Common Chickweed',\n",
              " 'Small-flowered Cranesbill',\n",
              " 'Scentless Mayweed',\n",
              " 'Shepherds Purse',\n",
              " 'Sugar beet',\n",
              " 'Common Chickweed',\n",
              " 'Scentless Mayweed',\n",
              " 'Charlock',\n",
              " 'Common Chickweed',\n",
              " 'Sugar beet',\n",
              " 'Common Chickweed',\n",
              " 'Small-flowered Cranesbill',\n",
              " 'Cleavers',\n",
              " 'Loose Silky-bent',\n",
              " 'Fat Hen',\n",
              " 'Charlock',\n",
              " 'Loose Silky-bent',\n",
              " 'Charlock',\n",
              " 'Loose Silky-bent',\n",
              " 'Scentless Mayweed',\n",
              " 'Small-flowered Cranesbill',\n",
              " 'Sugar beet',\n",
              " 'Common wheat',\n",
              " 'Common Chickweed',\n",
              " 'Shepherds Purse',\n",
              " 'Small-flowered Cranesbill',\n",
              " 'Common Chickweed',\n",
              " 'Shepherds Purse',\n",
              " 'Scentless Mayweed',\n",
              " 'Loose Silky-bent',\n",
              " 'Common wheat',\n",
              " 'Loose Silky-bent',\n",
              " 'Loose Silky-bent',\n",
              " 'Loose Silky-bent',\n",
              " 'Charlock',\n",
              " 'Scentless Mayweed',\n",
              " 'Sugar beet',\n",
              " 'Loose Silky-bent',\n",
              " 'Common wheat',\n",
              " 'Common Chickweed',\n",
              " 'Loose Silky-bent',\n",
              " 'Loose Silky-bent',\n",
              " 'Common wheat',\n",
              " 'Small-flowered Cranesbill',\n",
              " 'Small-flowered Cranesbill',\n",
              " 'Fat Hen',\n",
              " 'Common Chickweed',\n",
              " 'Maize',\n",
              " 'Small-flowered Cranesbill',\n",
              " 'Small-flowered Cranesbill',\n",
              " 'Charlock',\n",
              " 'Loose Silky-bent',\n",
              " 'Maize',\n",
              " 'Cleavers',\n",
              " 'Loose Silky-bent',\n",
              " 'Loose Silky-bent',\n",
              " 'Small-flowered Cranesbill',\n",
              " 'Charlock',\n",
              " 'Small-flowered Cranesbill',\n",
              " 'Common Chickweed',\n",
              " 'Small-flowered Cranesbill',\n",
              " 'Loose Silky-bent',\n",
              " 'Loose Silky-bent',\n",
              " 'Loose Silky-bent',\n",
              " 'Scentless Mayweed',\n",
              " 'Common Chickweed',\n",
              " 'Maize',\n",
              " 'Shepherds Purse',\n",
              " 'Common Chickweed',\n",
              " 'Fat Hen',\n",
              " 'Fat Hen',\n",
              " 'Sugar beet',\n",
              " 'Common wheat',\n",
              " 'Scentless Mayweed',\n",
              " 'Small-flowered Cranesbill',\n",
              " 'Charlock',\n",
              " 'Sugar beet',\n",
              " 'Shepherds Purse',\n",
              " 'Charlock',\n",
              " 'Loose Silky-bent',\n",
              " 'Loose Silky-bent',\n",
              " 'Scentless Mayweed',\n",
              " 'Black-grass',\n",
              " 'Common Chickweed',\n",
              " 'Shepherds Purse',\n",
              " 'Sugar beet',\n",
              " 'Loose Silky-bent',\n",
              " 'Cleavers',\n",
              " 'Common wheat',\n",
              " 'Scentless Mayweed',\n",
              " 'Common Chickweed',\n",
              " 'Loose Silky-bent',\n",
              " 'Loose Silky-bent',\n",
              " 'Common Chickweed',\n",
              " 'Loose Silky-bent',\n",
              " 'Loose Silky-bent',\n",
              " 'Common Chickweed',\n",
              " 'Shepherds Purse',\n",
              " 'Loose Silky-bent',\n",
              " 'Scentless Mayweed',\n",
              " 'Small-flowered Cranesbill',\n",
              " 'Small-flowered Cranesbill',\n",
              " 'Loose Silky-bent',\n",
              " 'Loose Silky-bent',\n",
              " 'Black-grass',\n",
              " 'Cleavers',\n",
              " 'Scentless Mayweed',\n",
              " 'Cleavers',\n",
              " 'Cleavers',\n",
              " 'Common wheat',\n",
              " 'Loose Silky-bent',\n",
              " 'Cleavers',\n",
              " 'Common Chickweed',\n",
              " 'Common Chickweed',\n",
              " 'Maize',\n",
              " 'Shepherds Purse',\n",
              " 'Fat Hen',\n",
              " 'Scentless Mayweed',\n",
              " 'Common Chickweed',\n",
              " 'Black-grass',\n",
              " 'Loose Silky-bent',\n",
              " 'Black-grass',\n",
              " 'Fat Hen',\n",
              " 'Small-flowered Cranesbill',\n",
              " 'Loose Silky-bent',\n",
              " 'Scentless Mayweed',\n",
              " 'Common wheat',\n",
              " 'Fat Hen',\n",
              " 'Shepherds Purse',\n",
              " 'Maize',\n",
              " 'Sugar beet',\n",
              " 'Loose Silky-bent',\n",
              " 'Scentless Mayweed',\n",
              " 'Scentless Mayweed',\n",
              " 'Loose Silky-bent',\n",
              " 'Cleavers',\n",
              " 'Scentless Mayweed',\n",
              " 'Sugar beet',\n",
              " 'Fat Hen',\n",
              " 'Scentless Mayweed',\n",
              " 'Common Chickweed',\n",
              " 'Scentless Mayweed',\n",
              " 'Loose Silky-bent',\n",
              " 'Loose Silky-bent',\n",
              " 'Scentless Mayweed',\n",
              " 'Scentless Mayweed',\n",
              " 'Scentless Mayweed',\n",
              " 'Shepherds Purse',\n",
              " 'Maize',\n",
              " 'Sugar beet',\n",
              " 'Scentless Mayweed',\n",
              " 'Common Chickweed',\n",
              " 'Fat Hen',\n",
              " 'Scentless Mayweed',\n",
              " 'Scentless Mayweed',\n",
              " 'Small-flowered Cranesbill',\n",
              " 'Small-flowered Cranesbill',\n",
              " 'Scentless Mayweed',\n",
              " 'Maize',\n",
              " 'Loose Silky-bent',\n",
              " 'Common Chickweed',\n",
              " 'Small-flowered Cranesbill',\n",
              " 'Scentless Mayweed',\n",
              " 'Charlock',\n",
              " 'Fat Hen',\n",
              " 'Loose Silky-bent',\n",
              " 'Scentless Mayweed',\n",
              " 'Common Chickweed',\n",
              " 'Loose Silky-bent',\n",
              " 'Sugar beet',\n",
              " 'Sugar beet',\n",
              " 'Cleavers',\n",
              " 'Loose Silky-bent',\n",
              " 'Common Chickweed',\n",
              " 'Shepherds Purse',\n",
              " 'Scentless Mayweed',\n",
              " 'Scentless Mayweed',\n",
              " 'Scentless Mayweed',\n",
              " 'Common wheat',\n",
              " 'Fat Hen',\n",
              " 'Common Chickweed',\n",
              " 'Small-flowered Cranesbill',\n",
              " 'Common wheat',\n",
              " 'Common Chickweed',\n",
              " 'Shepherds Purse',\n",
              " 'Charlock',\n",
              " 'Loose Silky-bent',\n",
              " 'Fat Hen',\n",
              " 'Maize',\n",
              " 'Charlock',\n",
              " 'Sugar beet',\n",
              " 'Loose Silky-bent',\n",
              " 'Small-flowered Cranesbill',\n",
              " 'Small-flowered Cranesbill',\n",
              " 'Charlock',\n",
              " 'Common Chickweed',\n",
              " 'Loose Silky-bent',\n",
              " 'Sugar beet',\n",
              " 'Loose Silky-bent',\n",
              " 'Common Chickweed',\n",
              " 'Maize',\n",
              " 'Scentless Mayweed',\n",
              " 'Charlock',\n",
              " 'Fat Hen',\n",
              " 'Loose Silky-bent',\n",
              " 'Sugar beet',\n",
              " 'Loose Silky-bent',\n",
              " 'Common wheat',\n",
              " 'Cleavers',\n",
              " 'Small-flowered Cranesbill',\n",
              " 'Scentless Mayweed',\n",
              " 'Black-grass',\n",
              " 'Common Chickweed',\n",
              " 'Loose Silky-bent',\n",
              " 'Fat Hen',\n",
              " 'Common Chickweed',\n",
              " 'Scentless Mayweed',\n",
              " 'Common wheat',\n",
              " 'Loose Silky-bent',\n",
              " 'Fat Hen',\n",
              " 'Loose Silky-bent',\n",
              " 'Black-grass',\n",
              " 'Common wheat',\n",
              " 'Small-flowered Cranesbill',\n",
              " 'Scentless Mayweed',\n",
              " 'Scentless Mayweed',\n",
              " 'Fat Hen',\n",
              " 'Common Chickweed',\n",
              " 'Small-flowered Cranesbill',\n",
              " 'Common Chickweed',\n",
              " 'Loose Silky-bent',\n",
              " 'Sugar beet',\n",
              " 'Scentless Mayweed',\n",
              " 'Charlock',\n",
              " 'Common Chickweed',\n",
              " 'Loose Silky-bent',\n",
              " 'Charlock',\n",
              " 'Small-flowered Cranesbill',\n",
              " 'Loose Silky-bent',\n",
              " 'Loose Silky-bent',\n",
              " 'Sugar beet',\n",
              " 'Scentless Mayweed',\n",
              " 'Common Chickweed',\n",
              " 'Sugar beet',\n",
              " 'Small-flowered Cranesbill',\n",
              " 'Fat Hen',\n",
              " 'Sugar beet',\n",
              " 'Loose Silky-bent',\n",
              " 'Common Chickweed',\n",
              " 'Loose Silky-bent',\n",
              " 'Sugar beet',\n",
              " 'Common wheat',\n",
              " 'Common Chickweed',\n",
              " 'Scentless Mayweed',\n",
              " 'Scentless Mayweed',\n",
              " 'Charlock',\n",
              " 'Charlock',\n",
              " 'Loose Silky-bent',\n",
              " 'Sugar beet',\n",
              " 'Cleavers',\n",
              " 'Charlock',\n",
              " 'Sugar beet',\n",
              " 'Maize',\n",
              " 'Loose Silky-bent',\n",
              " 'Sugar beet',\n",
              " 'Sugar beet',\n",
              " 'Loose Silky-bent',\n",
              " 'Scentless Mayweed',\n",
              " 'Fat Hen',\n",
              " 'Common wheat',\n",
              " 'Sugar beet',\n",
              " 'Scentless Mayweed',\n",
              " 'Loose Silky-bent',\n",
              " 'Fat Hen',\n",
              " 'Sugar beet',\n",
              " 'Small-flowered Cranesbill',\n",
              " 'Loose Silky-bent',\n",
              " 'Cleavers',\n",
              " 'Small-flowered Cranesbill',\n",
              " 'Fat Hen',\n",
              " 'Fat Hen',\n",
              " 'Shepherds Purse',\n",
              " 'Black-grass',\n",
              " 'Common Chickweed',\n",
              " 'Shepherds Purse',\n",
              " 'Small-flowered Cranesbill',\n",
              " 'Small-flowered Cranesbill',\n",
              " 'Cleavers',\n",
              " 'Scentless Mayweed',\n",
              " 'Charlock',\n",
              " 'Loose Silky-bent',\n",
              " 'Sugar beet',\n",
              " 'Common Chickweed',\n",
              " 'Black-grass',\n",
              " 'Scentless Mayweed',\n",
              " 'Scentless Mayweed',\n",
              " 'Charlock',\n",
              " 'Charlock',\n",
              " 'Sugar beet',\n",
              " 'Loose Silky-bent',\n",
              " 'Shepherds Purse',\n",
              " 'Loose Silky-bent',\n",
              " 'Small-flowered Cranesbill',\n",
              " 'Cleavers',\n",
              " 'Scentless Mayweed',\n",
              " 'Loose Silky-bent',\n",
              " 'Cleavers',\n",
              " 'Fat Hen',\n",
              " 'Fat Hen',\n",
              " 'Charlock',\n",
              " 'Scentless Mayweed',\n",
              " 'Sugar beet',\n",
              " 'Charlock',\n",
              " 'Small-flowered Cranesbill',\n",
              " 'Sugar beet',\n",
              " 'Maize',\n",
              " 'Common Chickweed',\n",
              " 'Scentless Mayweed',\n",
              " 'Shepherds Purse',\n",
              " 'Cleavers',\n",
              " 'Fat Hen',\n",
              " 'Common Chickweed',\n",
              " 'Shepherds Purse',\n",
              " 'Cleavers',\n",
              " 'Charlock',\n",
              " 'Fat Hen',\n",
              " 'Black-grass',\n",
              " 'Charlock',\n",
              " 'Scentless Mayweed',\n",
              " 'Sugar beet',\n",
              " 'Fat Hen',\n",
              " 'Loose Silky-bent',\n",
              " 'Common Chickweed',\n",
              " 'Common wheat',\n",
              " 'Loose Silky-bent',\n",
              " 'Loose Silky-bent',\n",
              " 'Scentless Mayweed',\n",
              " 'Scentless Mayweed',\n",
              " 'Shepherds Purse',\n",
              " 'Loose Silky-bent',\n",
              " 'Sugar beet',\n",
              " 'Sugar beet',\n",
              " 'Charlock',\n",
              " 'Common wheat']"
            ]
          },
          "metadata": {},
          "execution_count": 58
        }
      ]
    },
    {
      "cell_type": "code",
      "metadata": {
        "id": "aeuTrSekEoBW"
      },
      "source": [
        "submission = pd.DataFrame()\n",
        "submission['file'] = test_generator.filenames\n",
        "submission['file'] = submission['file'].str.replace(r'test/', '')\n",
        "submission['species'] = class_list\n",
        "submission.to_csv('submission1.csv', index=False)"
      ],
      "execution_count": 59,
      "outputs": []
    }
  ]
}